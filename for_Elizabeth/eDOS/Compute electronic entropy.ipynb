{
 "cells": [
  {
   "cell_type": "code",
   "execution_count": 2,
   "id": "8493a7f4",
   "metadata": {},
   "outputs": [],
   "source": [
    "import numpy as np"
   ]
  },
  {
   "cell_type": "markdown",
   "id": "5774e711",
   "metadata": {},
   "source": [
    "### Liquid"
   ]
  },
  {
   "cell_type": "code",
   "execution_count": 3,
   "id": "550edf38",
   "metadata": {},
   "outputs": [],
   "source": [
    "en, dos = np.load('./liquid/eDOS.npy', allow_pickle=True)"
   ]
  },
  {
   "cell_type": "code",
   "execution_count": 4,
   "id": "b9222b0f",
   "metadata": {},
   "outputs": [
    {
     "data": {
      "text/plain": [
       "(-30.0, 30.0)"
      ]
     },
     "execution_count": 4,
     "metadata": {},
     "output_type": "execute_result"
    },
    {
     "data": {
      "image/png": "[encoded data removed]",
      "text/plain": [
       "<Figure size 432x288 with 1 Axes>"
      ]
     },
     "metadata": {
      "needs_background": "light"
     },
     "output_type": "display_data"
    }
   ],
   "source": [
    "import matplotlib.pyplot as plt\n",
    "\n",
    "plt.plot(en, dos)\n",
    "plt.ylim(0, 2)\n",
    "plt.xlim(-30, 30)"
   ]
  },
  {
   "cell_type": "code",
   "execution_count": 5,
   "id": "5d1ed422",
   "metadata": {},
   "outputs": [],
   "source": [
    "from scipy.constants import physical_constants"
   ]
  },
  {
   "cell_type": "code",
   "execution_count": 6,
   "id": "8d44fa22",
   "metadata": {},
   "outputs": [],
   "source": [
    "kb = 8.6*10**(-5)\n",
    "\n",
    "def fermi(en, T):\n",
    "    return 1/(np.exp(en/(kb*T)) + 1)\n",
    "\n",
    "def entropy_el(en, dos, T):\n",
    "    prefactor = fermi(en, T)*np.log(fermi(en, T)) + (1 - fermi(en, T))*np.log(1-fermi(en, T))\n",
    "    prefactor = np.nan_to_num(prefactor)\n",
    "    return np.sum(-prefactor*dos*(en[1] - en[0]))"
   ]
  },
  {
   "cell_type": "code",
   "execution_count": 7,
   "id": "b8822895",
   "metadata": {},
   "outputs": [
    {
     "name": "stderr",
     "output_type": "stream",
     "text": [
      "/var/folders/p2/mwhbpbfx4dx636dcf50t7_rr0000gn/T/ipykernel_6701/329204764.py:4: RuntimeWarning: overflow encountered in exp\n",
      "  return 1/(np.exp(en/(kb*T)) + 1)\n",
      "/var/folders/p2/mwhbpbfx4dx636dcf50t7_rr0000gn/T/ipykernel_6701/329204764.py:7: RuntimeWarning: divide by zero encountered in log\n",
      "  prefactor = fermi(en, T)*np.log(fermi(en, T)) + (1 - fermi(en, T))*np.log(1-fermi(en, T))\n",
      "/var/folders/p2/mwhbpbfx4dx636dcf50t7_rr0000gn/T/ipykernel_6701/329204764.py:7: RuntimeWarning: invalid value encountered in multiply\n",
      "  prefactor = fermi(en, T)*np.log(fermi(en, T)) + (1 - fermi(en, T))*np.log(1-fermi(en, T))\n"
     ]
    }
   ],
   "source": [
    "T = 663\n",
    "entr_liq = entropy_el(en, dos, T)"
   ]
  },
  {
   "cell_type": "code",
   "execution_count": 8,
   "id": "ebdacc9f",
   "metadata": {},
   "outputs": [
    {
     "data": {
      "text/plain": [
       "(-30.0, 30.0)"
      ]
     },
     "execution_count": 8,
     "metadata": {},
     "output_type": "execute_result"
    },
    {
     "data": {
      "image/png": "[encoded data removed]",
      "text/plain": [
       "<Figure size 432x288 with 1 Axes>"
      ]
     },
     "metadata": {
      "needs_background": "light"
     },
     "output_type": "display_data"
    }
   ],
   "source": [
    "en, dos = np.load('./solid/eDOS.npy', allow_pickle=True)\n",
    "\n",
    "import matplotlib.pyplot as plt\n",
    "\n",
    "plt.plot(en, dos)\n",
    "plt.ylim(0, 2)\n",
    "plt.xlim(-30, 30)"
   ]
  },
  {
   "cell_type": "code",
   "execution_count": 9,
   "id": "97d26710",
   "metadata": {},
   "outputs": [
    {
     "name": "stderr",
     "output_type": "stream",
     "text": [
      "/var/folders/p2/mwhbpbfx4dx636dcf50t7_rr0000gn/T/ipykernel_6701/329204764.py:4: RuntimeWarning: overflow encountered in exp\n",
      "  return 1/(np.exp(en/(kb*T)) + 1)\n",
      "/var/folders/p2/mwhbpbfx4dx636dcf50t7_rr0000gn/T/ipykernel_6701/329204764.py:7: RuntimeWarning: divide by zero encountered in log\n",
      "  prefactor = fermi(en, T)*np.log(fermi(en, T)) + (1 - fermi(en, T))*np.log(1-fermi(en, T))\n",
      "/var/folders/p2/mwhbpbfx4dx636dcf50t7_rr0000gn/T/ipykernel_6701/329204764.py:7: RuntimeWarning: invalid value encountered in multiply\n",
      "  prefactor = fermi(en, T)*np.log(fermi(en, T)) + (1 - fermi(en, T))*np.log(1-fermi(en, T))\n"
     ]
    }
   ],
   "source": [
    "T = 663\n",
    "entr_sol = entropy_el(en, dos, T)"
   ]
  },
  {
   "cell_type": "code",
   "execution_count": 10,
   "id": "9d9662f2",
   "metadata": {},
   "outputs": [
    {
     "data": {
      "text/plain": [
       "0.07206059863602349"
      ]
     },
     "execution_count": 10,
     "metadata": {},
     "output_type": "execute_result"
    }
   ],
   "source": [
    "entr_liq - entr_sol"
   ]
  },
  {
   "cell_type": "code",
   "execution_count": 11,
   "id": "51069cee",
   "metadata": {},
   "outputs": [
    {
     "data": {
      "text/plain": [
       "0.1206700516321505"
      ]
     },
     "execution_count": 11,
     "metadata": {},
     "output_type": "execute_result"
    }
   ],
   "source": [
    "entr_sol"
   ]
  },
  {
   "cell_type": "code",
   "execution_count": null,
   "id": "9b3571c1",
   "metadata": {},
   "outputs": [],
   "source": []
  }
 ],
 "metadata": {
  "kernelspec": {
   "display_name": "Python 3 (ipykernel)",
   "language": "python",
   "name": "python3"
  },
  "language_info": {
   "codemirror_mode": {
    "name": "ipython",
    "version": 3
   },
   "file_extension": ".py",
   "mimetype": "text/x-python",
   "name": "python",
   "nbconvert_exporter": "python",
   "pygments_lexer": "ipython3",
   "version": "3.9.7"
  }
 },
 "nbformat": 4,
 "nbformat_minor": 5
}
