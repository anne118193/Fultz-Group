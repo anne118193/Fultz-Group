{
 "cells": [
  {
   "cell_type": "code",
   "execution_count": 1,
   "id": "d4a50d24-d71b-4e80-9043-5757640dd96e",
   "metadata": {},
   "outputs": [],
   "source": [
    "import numpy as np\n",
    "import matplotlib.pyplot as plt"
   ]
  },
  {
   "cell_type": "code",
   "execution_count": 2,
   "id": "d84f629c-34d6-4505-a7f4-6f0c8e870047",
   "metadata": {},
   "outputs": [],
   "source": [
    "def read_eDOS(f):\n",
    "    for i in range(5):\n",
    "        f.readline()\n",
    "    Ef = f.readline().rstrip().split()[3]\n",
    "    dos = np.array([f.readline().rstrip().split() for i in range(2000)], dtype = np.float64)\n",
    "    return float(Ef), dos"
   ]
  },
  {
   "cell_type": "code",
   "execution_count": 4,
   "id": "e87b718d-4788-48a7-9d46-cfeda80b4dbc",
   "metadata": {},
   "outputs": [],
   "source": [
    "Ef = []\n",
    "eDOS = []\n",
    "for i in range(20):\n",
    "    with open(f'conf_{i+1}/2/DOSCAR','r') as f:\n",
    "        Ef_tmp, eDOS_tmp = read_eDOS(f)\n",
    "        Ef.append(Ef_tmp)\n",
    "        eDOS.append(eDOS_tmp)"
   ]
  },
  {
   "cell_type": "code",
   "execution_count": 5,
   "id": "fd88059b-14ca-4536-95a3-a6d1e354fbfd",
   "metadata": {},
   "outputs": [],
   "source": [
    "eDOS = np.array(eDOS)\n",
    "Ef = np.array(Ef)\n",
    "\n",
    "eDOS[:, :, 0] -= Ef[:, None]"
   ]
  },
  {
   "cell_type": "code",
   "execution_count": 6,
   "id": "184fcb05-91da-4a75-aeca-5ae0c1dc1a24",
   "metadata": {},
   "outputs": [
    {
     "data": {
      "text/plain": [
       "(0.0, 2.0)"
      ]
     },
     "execution_count": 6,
     "metadata": {},
     "output_type": "execute_result"
    },
    {
     "data": {
      "image/png": "[encoded data removed]",
      "text/plain": [
       "<Figure size 432x288 with 1 Axes>"
      ]
     },
     "metadata": {
      "needs_background": "light"
     },
     "output_type": "display_data"
    }
   ],
   "source": [
    "plt.plot(eDOS[0, :, 0], eDOS.mean(axis = 0)[:, 1]/108)\n",
    "\n",
    "plt.xlim(-20, 25)\n",
    "\n",
    "plt.ylim(0, 2)"
   ]
  },
  {
   "cell_type": "code",
   "execution_count": 7,
   "id": "8f3ea68a-009b-4793-8a22-3d239076b4c4",
   "metadata": {},
   "outputs": [],
   "source": [
    "np.vstack((eDOS[0, :, 0], eDOS.mean(axis = 0)[:, 1]/108)).dump('eDOS.npy')"
   ]
  },
  {
   "cell_type": "code",
   "execution_count": 15,
   "id": "f326b5f8-f486-4ded-943d-d49a571ef5fd",
   "metadata": {},
   "outputs": [
    {
     "data": {
      "text/plain": [
       "array([[-105.61535205, -105.51535205, -105.41535205, ...,   94.18464795,\n",
       "          94.28464795,   94.38464795],\n",
       "       [   0.        ,    0.        ,    0.        , ...,    0.        ,\n",
       "           0.        ,    0.        ]])"
      ]
     },
     "execution_count": 15,
     "metadata": {},
     "output_type": "execute_result"
    }
   ],
   "source": [
    "np.vstack((eDOS[0, :, 0], eDOS.mean(axis = 0)[:, 1]/108))"
   ]
  },
  {
   "cell_type": "code",
   "execution_count": null,
   "id": "93b3b155-0133-4881-8647-f290d2500eaf",
   "metadata": {},
   "outputs": [],
   "source": []
  }
 ],
 "metadata": {
  "kernelspec": {
   "display_name": "NERSC Python",
   "language": "python",
   "name": "python3"
  },
  "language_info": {
   "codemirror_mode": {
    "name": "ipython",
    "version": 3
   },
   "file_extension": ".py",
   "mimetype": "text/x-python",
   "name": "python",
   "nbconvert_exporter": "python",
   "pygments_lexer": "ipython3",
   "version": "3.9.7"
  }
 },
 "nbformat": 4,
 "nbformat_minor": 5
}
