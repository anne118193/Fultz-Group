{
 "cells": [
  {
   "cell_type": "code",
   "execution_count": 1,
   "id": "b8560c53-fa18-4d74-8c6f-3a37040e0dba",
   "metadata": {},
   "outputs": [],
   "source": [
    "import numpy as np"
   ]
  },
  {
   "cell_type": "code",
   "execution_count": 2,
   "id": "2d292aff-2a2e-4d08-9a94-958610925ced",
   "metadata": {},
   "outputs": [],
   "source": [
    "def read_conf(f, Na):\n",
    "    return np.array([f.readline().rstrip().split() for i in range(Na)], dtype = np.float64)"
   ]
  },
  {
   "cell_type": "code",
   "execution_count": 3,
   "id": "d5dedc07-669e-4782-8123-dc6ea8154352",
   "metadata": {},
   "outputs": [],
   "source": [
    "Nt = 1100\n",
    "Na = 108\n",
    "pos = []\n",
    "with open('dump.positions', 'r') as f:\n",
    "    for t in range(Nt):\n",
    "        for i in range(9):\n",
    "            f.readline()\n",
    "        pos.append(read_conf(f, Na))"
   ]
  },
  {
   "cell_type": "code",
   "execution_count": 4,
   "id": "c0c88c48-eb47-4b38-94b8-ea91590abdc8",
   "metadata": {},
   "outputs": [],
   "source": [
    "from scipy.linalg import inv\n",
    "\n",
    "\n",
    "header =  \"\"\"non-diagonal supercell\n",
    "        5.217\n",
    "     3.00000000000000     0.00000000000000     0.00000000000000 \n",
    "     0.00000000000000     3.00000000000000     0.00000000000000\n",
    "     0.00000000000000     0.00000000000000     3.00000000000000\n",
    "  Pb\n",
    "  108\n",
    " Direct coordinates\\n\"\"\"\n",
    "\n",
    "def creat_poscar_from_lammps(conf):\n",
    "    return header + '\\n'.join([\"{0:.14f} {1:.14f} {2:.14f}\".format(el[0], el[1], el[2]) for el in conf])"
   ]
  },
  {
   "cell_type": "code",
   "execution_count": 6,
   "id": "b8e44c74-58c9-4296-98f6-64f5ce6193ab",
   "metadata": {},
   "outputs": [],
   "source": [
    "for i, p in enumerate(pos[100:120]):\n",
    "    out = creat_poscar_from_lammps(p)\n",
    "    with open(f'./confs/POSCAR_{i+1}', 'w') as f:\n",
    "        f.write(out)"
   ]
  },
  {
   "cell_type": "code",
   "execution_count": 7,
   "id": "060024eb-ec42-41f2-8ced-a0d2dff836eb",
   "metadata": {},
   "outputs": [
    {
     "data": {
      "text/plain": [
       "5.20563165404736"
      ]
     },
     "execution_count": 7,
     "metadata": {},
     "output_type": "execute_result"
    }
   ],
   "source": [
    "(1.5338447481064188e+01+2.7844748107789119e-01)/3"
   ]
  },
  {
   "cell_type": "code",
   "execution_count": null,
   "id": "99efff03-3019-45a7-832b-8b2b80530a54",
   "metadata": {},
   "outputs": [],
   "source": []
  }
 ],
 "metadata": {
  "kernelspec": {
   "display_name": "NERSC Python",
   "language": "python",
   "name": "python3"
  },
  "language_info": {
   "codemirror_mode": {
    "name": "ipython",
    "version": 3
   },
   "file_extension": ".py",
   "mimetype": "text/x-python",
   "name": "python",
   "nbconvert_exporter": "python",
   "pygments_lexer": "ipython3",
   "version": "3.9.7"
  }
 },
 "nbformat": 4,
 "nbformat_minor": 5
}
