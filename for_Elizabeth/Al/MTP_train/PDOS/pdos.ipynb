{
 "cells": [
  {
   "cell_type": "code",
   "execution_count": 1,
   "metadata": {},
   "outputs": [],
   "source": [
    "import math\n",
    "import re\n",
    "import numpy as np\n",
    "import matplotlib.pyplot as plt\n",
    "import matplotlib\n",
    "\n",
    "matplotlib.rcParams['mathtext.fontset'] = 'cm'\n",
    "matplotlib.rcParams['font.size'] = 17"
   ]
  },
  {
   "cell_type": "code",
   "execution_count": 2,
   "metadata": {},
   "outputs": [],
   "source": [
    "def read_data():\n",
    "    vacf_all = []\n",
    "    vacf_1 = []\n",
    "    vacf_2 = []\n",
    "    check = 1\n",
    "    \n",
    "    M1 = 238.03**(1/2.0)\n",
    "    M2 = 95.95**(1/2.0)\n",
    "    \n",
    "    fi = open(path+'DOS.out', 'r')\n",
    "    for k in range(100000):\n",
    "        st = fi.readline()\n",
    "        #print(st[0:4])\n",
    "        if st[0:4] == \"Step\":\n",
    "            check = check + 1\n",
    "            print(check)\n",
    "        if check == 3:\n",
    "            break\n",
    "    for k in range(t_vacf):\n",
    "        st = fi.readline()\n",
    "        if st[0:4] == \"Loop\":\n",
    "            break\n",
    "        data = st.rstrip().split()\n",
    "        #print(st)\n",
    "        vacf_all.append([float(data[0])*step-t0,float(data[8])])\n",
    "        #vacf_1.append([float(data[0])*step-t0,float(data[9])])\n",
    "        #vacf_2.append([float(data[0])*step-t0,float(data[10])])\n",
    "    fi.close()\n",
    "\n",
    "    vacf_all = np.asmatrix(vacf_all)\n",
    "    #vacf_1 = np.asmatrix(vacf_1)\n",
    "    #vacf_2 = np.asmatrix(vacf_2)\n",
    "    \n",
    "    v = np.copy(vacf_all[0,1])\n",
    "    #v1 = np.copy(vacf_1[0,1])\n",
    "    #v2 = np.copy(vacf_2[0,1])\n",
    "    print(\"len of all vacf\", vacf_all.shape)\n",
    "    for i in range(len(vacf_all)):\n",
    "        vacf_all[i,1] = (M1**2*vacf_all[i,1])/(M1**2*v)\n",
    "        #vacf_1[i,1] = (M1**2*vacf_1[i,1])/(M1**2*v1 + M2**2*v2)\n",
    "        #vacf_2[i,1] = (M2**2*vacf_2[i,1])/(M1**2*v1 + M2**2*v2)\n",
    "\n",
    "    \n",
    "    fo = open('VACF.dat','w')\n",
    "    fo.write('Time, ps Autocorr \\n')\n",
    "    for i in range(len(vacf_all)):\n",
    "        fo.write('%f %f \\n' % (vacf_all[i,0],vacf_all[i,1]))\n",
    "    fo.close()\n",
    "    \n",
    "    #fo = open('VACF_1.dat','w')\n",
    "    #fo.write('Time, ps Autocorr \\n')\n",
    "    #for i in range(len(vacf_1)):\n",
    "    #    fo.write('%f %f \\n' % (vacf_1[i,0],vacf_1[i,1]))\n",
    "    #fo.close()\n",
    "    #fo = open('VACF_2.dat','w')\n",
    "    #fo.write('Time, ps Autocorr \\n')\n",
    "    #for i in range(len(vacf_2)):\n",
    "    #    fo.write('%f %f \\n' % (vacf_2[i,0],vacf_2[i,1]))\n",
    "    #fo.close()\n",
    "    return vacf_1, vacf_2, vacf_all"
   ]
  },
  {
   "cell_type": "code",
   "execution_count": 3,
   "metadata": {},
   "outputs": [],
   "source": [
    "def PDOS(vacf,v,nAt):\n",
    "    gr = 0\n",
    "    gr = np.sum(np.multiply(np.cos(2*3.141592654*v*vacf[:,0]),vacf[:,1])*step)\n",
    "\t#for i in range(vacf.shape[0]):\n",
    "#\t\tgr = gr + math.cos(2*3.141592654*v*vacf[i,0])*vacf[i,1]*step\n",
    "\t#l = vacf.shape[0]\n",
    "\t#gr = np.sum(math.cos(2*3.141592654*np.repeat(v,l)*vacf[:,0])*vacf[:,1]*np.repeat(step,l))\n",
    "    return gr#*nAt/(nAt1+nAt2)"
   ]
  },
  {
   "cell_type": "code",
   "execution_count": 4,
   "metadata": {},
   "outputs": [],
   "source": [
    "def integ(pdos):\n",
    "\tsum = 0\n",
    "\tvcut = freq[-1]\n",
    "\tfor i in range(len(pdos)):\n",
    "\t\tsum = sum + pdos[i][1]*(freq[1]-freq[0])\n",
    "\t\tif sum > 1:\n",
    "\t\t\tvcut = pdos[i][0]\n",
    "\t\t\tbreak\n",
    "\tprint(\"Integral =\", sum)\n",
    "\tprint (\"vcut =\", vcut)\n",
    "\treturn vcut, sum"
   ]
  },
  {
   "cell_type": "code",
   "execution_count": 5,
   "metadata": {},
   "outputs": [],
   "source": [
    "def write_vacf(vacf, pdos_name, nAt):\n",
    "    p = []\n",
    "    for v in freq:\n",
    "        p_tmp = PDOS(vacf,v,nAt)\n",
    "        if v == 0:\n",
    "            p0 = p_tmp\n",
    "        p_tmp = p_tmp - p0\n",
    "        p.append([v,p_tmp])\n",
    "\n",
    "    vc, integral  = integ(p)\n",
    "    #print(vc, integral)\n",
    "    #p2 = [[x[0],x[1]*1.0/integral] for x in p]\n",
    "    p2 = [[x[0],x[1]*1.0] for x in p]\n",
    "\n",
    "    fo = open(pdos_name,'w')\n",
    "    for x in p2:\n",
    "        fo.write(\"%f %f \\n\" % (x[0], x[1]))\n",
    "    fo.close()\n",
    "    return p2"
   ]
  },
  {
   "cell_type": "code",
   "execution_count": 6,
   "metadata": {},
   "outputs": [],
   "source": [
    "dnu = 0.05\n",
    "freq = np.array([i*dnu for i in range(0,800)])\n",
    "mask_value = re.compile('[+-]?\\d+\\.?\\d*e?[+-]?\\d*')\n",
    "#mask_line = re.compile('temperature\\s*\\d+')\n",
    "mask_energy = re.compile('\\s+0\\s+0\\s*\\d+')\n",
    "\n",
    "step = 0.001\n",
    "t0 = 0\n",
    "t_vacf = 3000\n",
    "type1 = 'Al'\n",
    "type2 = 'Mo'\n",
    "\n",
    "n = 20\n",
    "c = 0\n",
    "nAt = 4*n*n*n\n",
    "nAt1 = nAt*(100-c)/100\n",
    "nAt2 = nAt*c/100\n",
    "path = \"./\""
   ]
  },
  {
   "cell_type": "code",
   "execution_count": 7,
   "metadata": {},
   "outputs": [
    {
     "name": "stdout",
     "output_type": "stream",
     "text": [
      "2\n",
      "3\n",
      "len of all vacf (5000, 2)\n"
     ]
    }
   ],
   "source": [
    "vacf_1, vacf_2, vacf_all = read_data()"
   ]
  },
  {
   "cell_type": "code",
   "execution_count": 8,
   "metadata": {},
   "outputs": [
    {
     "data": {
      "image/png": "[encoded data removed]",
      "text/plain": [
       "<Figure size 576x432 with 1 Axes>"
      ]
     },
     "metadata": {
      "needs_background": "light"
     },
     "output_type": "display_data"
    }
   ],
   "source": [
    "fig = plt.figure(figsize=(8,6))\n",
    "plt.plot(vacf_all[:,0], vacf_all[:,1], 'or')\n",
    "#plt.plot(vacf_1[:,0], vacf_1[:,1], 'ob')\n",
    "#plt.plot(vacf_2[:,0], vacf_2[:,1], 'og')\n",
    "plt.show()"
   ]
  },
  {
   "cell_type": "code",
   "execution_count": 9,
   "metadata": {
    "scrolled": true
   },
   "outputs": [
    {
     "name": "stdout",
     "output_type": "stream",
     "text": [
      "Integral = 0.2550587657809024\n",
      "vcut = 39.95\n"
     ]
    }
   ],
   "source": [
    "#write_vacf(vacf_all, path+'PDOS_all.dat')\n",
    "pdos_all = np.asmatrix(write_vacf(vacf_all, path+'PDOS_{0}.dat'.format('all'), nAt))\n",
    "#pdos1 = np.asmatrix(write_vacf(vacf_1, path+'PDOS_{0}.dat'.format(type1), nAt1))\n",
    "#pdos2 = np.asmatrix(write_vacf(vacf_2, path+'PDOS_{0}.dat'.format(type2), nAt2))\n",
    "import copy\n",
    "\n",
    "#pdos_total = copy.deepcopy(pdos1)\n",
    "#pdos_total[:,1] += pdos2[:, 1]\n",
    "#0.7391632209175192+0.18972116869799943\n"
   ]
  },
  {
   "cell_type": "code",
   "execution_count": 10,
   "metadata": {},
   "outputs": [],
   "source": [
    "def thermo(freq, T):\n",
    "    return freq/(kb*T)/(1 - np.exp(-freq/(kb*T)))"
   ]
  },
  {
   "cell_type": "code",
   "execution_count": 13,
   "metadata": {},
   "outputs": [
    {
     "data": {
      "image/png": "[encoded data removed]",
      "text/plain": [
       "<Figure size 1152x576 with 1 Axes>"
      ]
     },
     "metadata": {
      "needs_background": "light"
     },
     "output_type": "display_data"
    }
   ],
   "source": [
    "fig =plt.figure(figsize=(16,8))\n",
    "\n",
    "#PDOS_liq = np.genfromtxt(\"../liquid/PDOS.dat\")\n",
    "#PDOS_sol = np.genfromtxt(\"./PDOS.dat\")\n",
    "gamma = 0.80*2\n",
    "\n",
    "def lorenc(x, A, gamma, x0):\n",
    "    return A*(1/2.*gamma)**2/((x - x0)**2 + 1/4.*gamma**2)\n",
    "\n",
    "Lgamma0 = lambda x: lorenc(x, pdos_all[0,1], gamma, 0)\n",
    "\n",
    "ax = fig.add_subplot(111)\n",
    "\n",
    "x_lor = np.array(pdos_all[:, 0])[:, 0]\n",
    "y_lor = np.array([Lgamma0(el) for el in x_lor])\n",
    "\n",
    "pdos_all_x = np.array(pdos_all[:200, 0])[:, 0]\n",
    "pdos_all_y = np.array(pdos_all[:200, 1])[:, 0]\n",
    "#pdos_all_y[1:] *= thermo(pdos_all_x, 955.7)[1:]\n",
    "\n",
    "integral = riemannint(pdos_all_y, 0.05*4.136)\n",
    "\n",
    "pdos_all_y /= integral\n",
    "pdos_all_x *= 4.136\n",
    "#ax.plot(x_lor, y_lor)\n",
    "ax.plot(pdos_all_x, pdos_all_y, color='tab:red', label='{}'.format('solid'), linewidth=3)\n",
    "#ax.plot(PDOS_liq[:, 0], PDOS_liq[:, 1], color='tab:blue', label='{}'.format('liquid'), linewidth=3)\n",
    "#ax.plot(PDOS_sol[:, 0], PDOS_sol[:, 1]/10, color='tab:green', label='{}'.format('liquid'), linewidth=3)\n",
    "#ax.plot(pdos_all[1:,0]*4.136, pdos_new[:]*4.136, color='tab:red', label='PDOS_{}'.format('all'), linewidth=3)\n",
    "#plt.plot(pdos[:, 0], pdos[:, 1])\n",
    "\n",
    "#ax.plot(pdos1[:,0], pdos1[:,1], color='tab:blue', label='PDOS_{0}'.format(type1), linewidth=3)\n",
    "#ax.plot(pdos2[:,0], pdos2[:,1], color='tab:orange', label='PDOS_{0}'.format(type2), linewidth=3)\n",
    "#ax.plot(pdos_total[:,0], pdos_total[:, 1], color='indianred', label='total PDOS', linewidth=3)\n",
    "#ax.plot(PDOS[:, 0]/0.24180, PDOS[:, 1])\n",
    "#ax.fill_between(np.squeeze(np.asarray(pdos1[:,0])), 0, np.squeeze(np.asarray(pdos_total)), facecolor='tab:olive', label = 'Total PDOS')\n",
    "plt.xlabel('Frequency (meV)')\n",
    "plt.ylabel('PDOS', fontsize = 30)\n",
    "plt.xlim(0,40)\n",
    "plt.ylim(0,0.2)\n",
    "#plt.ylim(0,0.5)\n",
    "#plt.xscale([0, 12/0.24180])\n",
    "#plt.ylim(0,0.1)\n",
    "plt.legend()\n",
    "plt.savefig(path+\"{0}_pdos.jpg\".format(type1, type2), dpi=300)\n",
    "plt.show()"
   ]
  },
  {
   "cell_type": "code",
   "execution_count": 19,
   "metadata": {},
   "outputs": [],
   "source": [
    "#np.savetxt(\"../../../Melting/Ge/liquid/PDOS_liquid.txt\", PDOS_liq)\n",
    "np.savetxt(\"./PDOS_solid.txt\", np.vstack([pdos_all_x, pdos_all_y]).T)"
   ]
  },
  {
   "cell_type": "code",
   "execution_count": 12,
   "metadata": {},
   "outputs": [],
   "source": [
    "def riemannint(f,dx):\n",
    "    \"\"\"Compute Riemann integral\"\"\"\n",
    "    return np.sum(f)*dx\n"
   ]
  },
  {
   "cell_type": "code",
   "execution_count": 57,
   "metadata": {},
   "outputs": [],
   "source": [
    "pdos_all_y /= riemannint(pdos_all_y, 0.05*4.136)"
   ]
  },
  {
   "cell_type": "code",
   "execution_count": 58,
   "metadata": {},
   "outputs": [
    {
     "name": "stdout",
     "output_type": "stream",
     "text": [
      "inf\n",
      "0.8500000000000001\n"
     ]
    },
    {
     "name": "stderr",
     "output_type": "stream",
     "text": [
      "/var/folders/p2/mwhbpbfx4dx636dcf50t7_rr0000gn/T/ipykernel_91226/1320560247.py:1: RuntimeWarning: divide by zero encountered in double_scalars\n",
      "  print(pdos_all[17,1]/pdos_all[0,1])\n"
     ]
    }
   ],
   "source": [
    "print(pdos_all[17,1]/pdos_all[0,1])\n",
    "print(pdos_all[17,0])"
   ]
  },
  {
   "cell_type": "code",
   "execution_count": 59,
   "metadata": {},
   "outputs": [
    {
     "name": "stdout",
     "output_type": "stream",
     "text": [
      "0.0\n"
     ]
    }
   ],
   "source": [
    "gamma = pdos_all[17,0]*2\n",
    "\n",
    "def lorenc(x, A, gamma, x0):\n",
    "    return A*(1/2.*gamma)**2/((x - x0)**2 + 1/4.*gamma**2)\n",
    "\n",
    "Lgamma0 = lambda x: lorenc(x, pdos_all[0,1], gamma, 0)\n",
    "print(Lgamma0(0))"
   ]
  },
  {
   "cell_type": "code",
   "execution_count": 60,
   "metadata": {},
   "outputs": [
    {
     "name": "stdout",
     "output_type": "stream",
     "text": [
      "(799, 1)\n"
     ]
    }
   ],
   "source": [
    "from scipy.constants import physical_constants\n",
    "\n",
    "def thermal_factor(freq, T):\n",
    "    kb = physical_constants['Boltzmann constant in eV/K'][0]*1000\n",
    "    return 1/np.expm1(freq/(kb*T))\n",
    "\n",
    "thermo = thermal_factor(pdos_all[1:,0], 1100)\n",
    "print(thermo.shape)\n",
    "pdos_new = np.zeros(len(pdos_all[1:,1]))\n",
    "for i in range(len(pdos_all[1:,1])):\n",
    "    pdos_new[i] = pdos_all[1+i,1]*thermo[i, 0]"
   ]
  },
  {
   "cell_type": "code",
   "execution_count": 61,
   "metadata": {},
   "outputs": [],
   "source": [
    "T = 955.7\n",
    "\n",
    "kb = 8.6*10**(-2)\n",
    "\n",
    "def thermo(freq, T):\n",
    "    return freq/(kb*T)/(1 - np.exp(-freq/(kb*T)))"
   ]
  },
  {
   "cell_type": "code",
   "execution_count": 62,
   "metadata": {},
   "outputs": [
    {
     "name": "stderr",
     "output_type": "stream",
     "text": [
      "/var/folders/p2/mwhbpbfx4dx636dcf50t7_rr0000gn/T/ipykernel_91226/3146321756.py:6: RuntimeWarning: invalid value encountered in true_divide\n",
      "  return freq/(kb*T)/(1 - np.exp(-freq/(kb*T)))\n"
     ]
    },
    {
     "data": {
      "text/plain": [
       "[<matplotlib.lines.Line2D at 0x7fd3b1f767f0>]"
      ]
     },
     "execution_count": 62,
     "metadata": {},
     "output_type": "execute_result"
    },
    {
     "data": {
      "image/png": "[encoded data removed]",
      "text/plain": [
       "<Figure size 432x288 with 1 Axes>"
      ]
     },
     "metadata": {
      "needs_background": "light"
     },
     "output_type": "display_data"
    }
   ],
   "source": [
    "plt.plot(pdos_all_x, pdos_all_y*thermo(pdos_all_x, 955.7))"
   ]
  },
  {
   "cell_type": "code",
   "execution_count": 63,
   "metadata": {},
   "outputs": [
    {
     "ename": "TypeError",
     "evalue": "object of type 'function' has no len()",
     "output_type": "error",
     "traceback": [
      "\u001b[0;31m---------------------------------------------------------------------------\u001b[0m",
      "\u001b[0;31mTypeError\u001b[0m                                 Traceback (most recent call last)",
      "\u001b[0;32m/var/folders/p2/mwhbpbfx4dx636dcf50t7_rr0000gn/T/ipykernel_91226/2329751998.py\u001b[0m in \u001b[0;36m<module>\u001b[0;34m\u001b[0m\n\u001b[0;32m----> 1\u001b[0;31m \u001b[0mnp\u001b[0m\u001b[0;34m.\u001b[0m\u001b[0mreshape\u001b[0m\u001b[0;34m(\u001b[0m\u001b[0mthermo\u001b[0m\u001b[0;34m,\u001b[0m \u001b[0;34m(\u001b[0m\u001b[0mlen\u001b[0m\u001b[0;34m(\u001b[0m\u001b[0mthermo\u001b[0m\u001b[0;34m)\u001b[0m\u001b[0;34m,\u001b[0m \u001b[0;34m)\u001b[0m\u001b[0;34m)\u001b[0m\u001b[0;34m.\u001b[0m\u001b[0mshape\u001b[0m\u001b[0;34m\u001b[0m\u001b[0;34m\u001b[0m\u001b[0m\n\u001b[0m",
      "\u001b[0;31mTypeError\u001b[0m: object of type 'function' has no len()"
     ]
    }
   ],
   "source": [
    "np.reshape(thermo, (len(thermo), )).shape"
   ]
  },
  {
   "cell_type": "code",
   "execution_count": 64,
   "metadata": {},
   "outputs": [],
   "source": [
    "np.savetxt(\"./PDOS.dat\", pdos_all)"
   ]
  },
  {
   "cell_type": "code",
   "execution_count": 65,
   "metadata": {},
   "outputs": [
    {
     "ename": "NameError",
     "evalue": "name 'pdos_total' is not defined",
     "output_type": "error",
     "traceback": [
      "\u001b[0;31m---------------------------------------------------------------------------\u001b[0m",
      "\u001b[0;31mNameError\u001b[0m                                 Traceback (most recent call last)",
      "\u001b[0;32m/var/folders/p2/mwhbpbfx4dx636dcf50t7_rr0000gn/T/ipykernel_91226/3220690450.py\u001b[0m in \u001b[0;36m<module>\u001b[0;34m\u001b[0m\n\u001b[1;32m      1\u001b[0m \u001b[0mnp\u001b[0m\u001b[0;34m.\u001b[0m\u001b[0msavetxt\u001b[0m\u001b[0;34m(\u001b[0m\u001b[0;34m\"./PDOS_mix.dat\"\u001b[0m\u001b[0;34m,\u001b[0m \u001b[0mpdos_all\u001b[0m\u001b[0;34m)\u001b[0m\u001b[0;34m\u001b[0m\u001b[0;34m\u001b[0m\u001b[0m\n\u001b[0;32m----> 2\u001b[0;31m \u001b[0mnp\u001b[0m\u001b[0;34m.\u001b[0m\u001b[0msavetxt\u001b[0m\u001b[0;34m(\u001b[0m\u001b[0;34m\"./PDOS_unmix.dat\"\u001b[0m\u001b[0;34m,\u001b[0m \u001b[0mpdos_total\u001b[0m\u001b[0;34m)\u001b[0m\u001b[0;34m\u001b[0m\u001b[0;34m\u001b[0m\u001b[0m\n\u001b[0m\u001b[1;32m      3\u001b[0m \u001b[0;34m\u001b[0m\u001b[0m\n\u001b[1;32m      4\u001b[0m \u001b[0mnp\u001b[0m\u001b[0;34m.\u001b[0m\u001b[0msavetxt\u001b[0m\u001b[0;34m(\u001b[0m\u001b[0;34m\"./PDOS_U.dat\"\u001b[0m\u001b[0;34m,\u001b[0m \u001b[0mpdos1\u001b[0m\u001b[0;34m)\u001b[0m\u001b[0;34m\u001b[0m\u001b[0;34m\u001b[0m\u001b[0m\n\u001b[1;32m      5\u001b[0m \u001b[0mnp\u001b[0m\u001b[0;34m.\u001b[0m\u001b[0msavetxt\u001b[0m\u001b[0;34m(\u001b[0m\u001b[0;34m\"./PDOS_Mo.dat\"\u001b[0m\u001b[0;34m,\u001b[0m \u001b[0mpdos2\u001b[0m\u001b[0;34m)\u001b[0m\u001b[0;34m\u001b[0m\u001b[0;34m\u001b[0m\u001b[0m\n",
      "\u001b[0;31mNameError\u001b[0m: name 'pdos_total' is not defined"
     ]
    }
   ],
   "source": [
    "np.savetxt(\"./PDOS_mix.dat\", pdos_all)\n",
    "np.savetxt(\"./PDOS_unmix.dat\", pdos_total)\n",
    "\n",
    "np.savetxt(\"./PDOS_U.dat\", pdos1)\n",
    "np.savetxt(\"./PDOS_Mo.dat\", pdos2)\n"
   ]
  },
  {
   "cell_type": "code",
   "execution_count": 14,
   "metadata": {
    "scrolled": true
   },
   "outputs": [
    {
     "name": "stdout",
     "output_type": "stream",
     "text": [
      "0.2068\n",
      "0.4136\n",
      "0.6204000000000001\n",
      "0.8272\n",
      "1.034\n",
      "1.2408000000000001\n",
      "1.4476000000000002\n",
      "1.6544\n",
      "1.8612000000000002\n",
      "2.068\n",
      "2.2748000000000004\n",
      "2.4816000000000003\n",
      "2.6884\n",
      "2.8952000000000004\n",
      "3.1020000000000003\n",
      "3.3088\n",
      "3.5156000000000005\n",
      "3.7224000000000004\n",
      "3.9292000000000002\n",
      "4.136\n",
      "4.3428\n",
      "4.549600000000001\n",
      "4.756400000000001\n",
      "4.9632000000000005\n",
      "5.17\n",
      "5.3768\n",
      "5.583600000000001\n",
      "5.790400000000001\n",
      "5.997200000000001\n",
      "6.204000000000001\n",
      "6.4108\n",
      "6.6176\n",
      "6.824400000000001\n",
      "7.031200000000001\n",
      "7.238\n",
      "7.444800000000001\n",
      "7.6516\n",
      "7.8584000000000005\n",
      "8.0652\n",
      "8.272\n",
      "8.478800000000001\n",
      "8.6856\n",
      "8.8924\n",
      "9.099200000000002\n",
      "9.306000000000001\n",
      "9.512800000000002\n",
      "9.7196\n",
      "9.926400000000001\n",
      "10.1332\n",
      "10.34\n",
      "10.546800000000001\n",
      "10.7536\n",
      "10.960400000000002\n",
      "11.167200000000001\n",
      "11.374\n",
      "11.580800000000002\n",
      "11.787600000000001\n",
      "11.994400000000002\n",
      "12.201200000000002\n",
      "12.408000000000001\n",
      "12.6148\n",
      "12.8216\n",
      "13.028400000000001\n",
      "13.2352\n",
      "13.442\n",
      "13.648800000000001\n",
      "13.8556\n",
      "14.062400000000002\n",
      "14.269200000000001\n",
      "14.476\n",
      "14.682800000000002\n",
      "14.889600000000002\n",
      "15.096400000000003\n",
      "15.3032\n",
      "15.51\n",
      "15.716800000000001\n",
      "15.9236\n",
      "16.1304\n",
      "16.337200000000003\n",
      "16.544\n",
      "16.750799999999998\n",
      "16.957600000000003\n",
      "17.1644\n",
      "17.3712\n",
      "17.578\n",
      "17.7848\n",
      "17.991600000000002\n",
      "18.198400000000003\n",
      "18.4052\n",
      "18.612000000000002\n",
      "18.8188\n",
      "19.025600000000004\n",
      "19.232400000000002\n",
      "19.4392\n",
      "19.646\n",
      "19.852800000000002\n",
      "20.059600000000003\n",
      "20.2664\n",
      "20.473200000000002\n",
      "20.68\n",
      "20.886800000000004\n",
      "21.093600000000002\n",
      "21.300400000000003\n",
      "21.5072\n",
      "21.714000000000002\n",
      "21.920800000000003\n",
      "22.127600000000005\n",
      "22.334400000000002\n",
      "22.5412\n",
      "22.748\n",
      "22.954800000000002\n",
      "23.161600000000004\n",
      "23.3684\n",
      "23.575200000000002\n",
      "23.782\n",
      "23.988800000000005\n",
      "24.195600000000002\n",
      "24.402400000000004\n",
      "24.6092\n",
      "24.816000000000003\n",
      "25.022800000000004\n",
      "25.2296\n",
      "25.436400000000003\n",
      "25.6432\n",
      "25.85\n",
      "26.056800000000003\n",
      "26.263600000000004\n",
      "26.4704\n",
      "26.677200000000003\n",
      "26.884\n",
      "27.090800000000005\n",
      "27.297600000000003\n",
      "27.504400000000004\n",
      "27.7112\n",
      "27.918\n",
      "28.124800000000004\n",
      "28.3316\n",
      "28.538400000000003\n",
      "28.7452\n",
      "28.952\n",
      "29.158800000000003\n",
      "29.365600000000004\n",
      "29.572400000000002\n",
      "29.779200000000003\n",
      "29.986\n",
      "30.192800000000005\n",
      "30.399600000000003\n",
      "30.6064\n",
      "30.813200000000002\n",
      "31.02\n",
      "31.226800000000004\n",
      "31.433600000000002\n",
      "31.640400000000003\n",
      "31.8472\n",
      "32.054\n",
      "32.2608\n",
      "32.467600000000004\n",
      "32.674400000000006\n",
      "32.8812\n",
      "33.088\n",
      "33.2948\n",
      "33.501599999999996\n",
      "33.708400000000005\n",
      "33.915200000000006\n",
      "34.122\n",
      "34.3288\n",
      "34.5356\n",
      "34.7424\n",
      "34.949200000000005\n",
      "35.156\n",
      "35.36280000000001\n",
      "35.5696\n",
      "35.7764\n",
      "35.983200000000004\n",
      "36.19\n",
      "36.396800000000006\n",
      "36.6036\n",
      "36.8104\n",
      "37.0172\n",
      "37.224000000000004\n",
      "37.430800000000005\n",
      "37.6376\n",
      "37.8444\n",
      "38.05120000000001\n",
      "38.258\n",
      "38.464800000000004\n",
      "38.6716\n",
      "38.8784\n",
      "39.08520000000001\n",
      "39.292\n",
      "39.4988\n",
      "39.705600000000004\n",
      "39.912400000000005\n",
      "Entropy/atom = 7.741197 kb\n"
     ]
    },
    {
     "data": {
      "text/plain": [
       "7.7411965101523705"
      ]
     },
     "execution_count": 14,
     "metadata": {},
     "output_type": "execute_result"
    }
   ],
   "source": [
    "vc = 40\n",
    "T = 978\n",
    "\n",
    "kb = 8.6*10**(-2)\n",
    "\n",
    "def n(eps,T):\n",
    "        return 1/(2.71828**(eps/(kb*T))-1)\n",
    "\n",
    "def entropy(pdos_x,pdos_y,vcut):\n",
    "        ent = 0\n",
    "        for i in range(1, len(pdos_x)-1):\n",
    "                if pdos_x[i] > vcut:\n",
    "                        break\n",
    "                eps = pdos_x[i]\n",
    "                eps_new = pdos_x[i+1]\n",
    "                deps = eps_new - eps\n",
    "                print(eps)\n",
    "                ent = ent + ((n(eps,T)+1)*math.log(n(eps,T)+1)-n(eps,T)*math.log(n(eps,T)))*pdos_y[i]*deps\n",
    "        \n",
    "        print(\"Entropy/atom = %f kb\" % (3*ent))\n",
    "        return 3*ent\n",
    "\n",
    "#pdos = np.genfromtxt('./PDOS.dat')\n",
    "\n",
    "entropy(pdos_all_x, pdos_all_y,vc)\n"
   ]
  },
  {
   "cell_type": "code",
   "execution_count": 15,
   "metadata": {},
   "outputs": [
    {
     "data": {
      "text/plain": [
       "1.0000000000000002"
      ]
     },
     "execution_count": 15,
     "metadata": {},
     "output_type": "execute_result"
    }
   ],
   "source": [
    "riemannint(pdos_all_y, pdos_all_x[1] - pdos_all_x[0])"
   ]
  },
  {
   "cell_type": "code",
   "execution_count": 16,
   "metadata": {},
   "outputs": [
    {
     "name": "stdout",
     "output_type": "stream",
     "text": [
      "0.2068\n",
      "0.4136\n",
      "0.6204000000000001\n",
      "0.8272\n",
      "1.034\n",
      "1.2408000000000001\n",
      "1.4476000000000002\n",
      "1.6544\n",
      "1.8612000000000002\n",
      "2.068\n",
      "2.2748000000000004\n",
      "2.4816000000000003\n",
      "2.6884\n",
      "2.8952000000000004\n",
      "3.1020000000000003\n",
      "3.3088\n",
      "3.5156000000000005\n",
      "3.7224000000000004\n",
      "3.9292000000000002\n",
      "4.136\n",
      "4.3428\n",
      "4.549600000000001\n",
      "4.756400000000001\n",
      "4.9632000000000005\n",
      "5.17\n",
      "5.3768\n",
      "5.583600000000001\n",
      "5.790400000000001\n",
      "5.997200000000001\n",
      "6.204000000000001\n",
      "6.4108\n",
      "6.6176\n",
      "6.824400000000001\n",
      "7.031200000000001\n",
      "7.238\n",
      "7.444800000000001\n",
      "7.6516\n",
      "7.8584000000000005\n",
      "8.0652\n",
      "8.272\n",
      "8.478800000000001\n",
      "8.6856\n",
      "8.8924\n",
      "9.099200000000002\n",
      "9.306000000000001\n",
      "9.512800000000002\n",
      "9.7196\n",
      "9.926400000000001\n",
      "10.1332\n",
      "10.34\n",
      "10.546800000000001\n",
      "10.7536\n",
      "10.960400000000002\n",
      "11.167200000000001\n",
      "11.374\n",
      "11.580800000000002\n",
      "11.787600000000001\n",
      "11.994400000000002\n",
      "12.201200000000002\n",
      "12.408000000000001\n",
      "12.6148\n",
      "12.8216\n",
      "13.028400000000001\n",
      "13.2352\n",
      "13.442\n",
      "13.648800000000001\n",
      "13.8556\n",
      "14.062400000000002\n",
      "14.269200000000001\n",
      "14.476\n",
      "14.682800000000002\n",
      "14.889600000000002\n",
      "15.096400000000003\n",
      "15.3032\n",
      "15.51\n",
      "15.716800000000001\n",
      "15.9236\n",
      "16.1304\n",
      "16.337200000000003\n",
      "16.544\n",
      "16.750799999999998\n",
      "16.957600000000003\n",
      "17.1644\n",
      "17.3712\n",
      "17.578\n",
      "17.7848\n",
      "17.991600000000002\n",
      "18.198400000000003\n",
      "18.4052\n",
      "18.612000000000002\n",
      "18.8188\n",
      "19.025600000000004\n",
      "19.232400000000002\n",
      "19.4392\n",
      "19.646\n",
      "19.852800000000002\n",
      "20.059600000000003\n",
      "20.2664\n",
      "20.473200000000002\n",
      "20.68\n",
      "20.886800000000004\n",
      "21.093600000000002\n",
      "21.300400000000003\n",
      "21.5072\n",
      "21.714000000000002\n",
      "21.920800000000003\n",
      "22.127600000000005\n",
      "22.334400000000002\n",
      "22.5412\n",
      "22.748\n",
      "22.954800000000002\n",
      "23.161600000000004\n",
      "23.3684\n",
      "23.575200000000002\n",
      "23.782\n",
      "23.988800000000005\n",
      "24.195600000000002\n",
      "24.402400000000004\n",
      "24.6092\n",
      "24.816000000000003\n",
      "25.022800000000004\n",
      "25.2296\n",
      "25.436400000000003\n",
      "25.6432\n",
      "25.85\n",
      "26.056800000000003\n",
      "26.263600000000004\n",
      "26.4704\n",
      "26.677200000000003\n",
      "26.884\n",
      "27.090800000000005\n",
      "27.297600000000003\n",
      "27.504400000000004\n",
      "27.7112\n",
      "27.918\n",
      "28.124800000000004\n",
      "28.3316\n",
      "28.538400000000003\n",
      "28.7452\n",
      "28.952\n",
      "29.158800000000003\n",
      "29.365600000000004\n",
      "29.572400000000002\n",
      "29.779200000000003\n",
      "29.986\n",
      "30.192800000000005\n",
      "30.399600000000003\n",
      "30.6064\n",
      "30.813200000000002\n",
      "31.02\n",
      "31.226800000000004\n",
      "31.433600000000002\n",
      "31.640400000000003\n",
      "31.8472\n",
      "32.054\n",
      "32.2608\n",
      "32.467600000000004\n",
      "32.674400000000006\n",
      "32.8812\n",
      "33.088\n",
      "33.2948\n",
      "33.501599999999996\n",
      "33.708400000000005\n",
      "33.915200000000006\n",
      "34.122\n",
      "34.3288\n",
      "34.5356\n",
      "34.7424\n",
      "34.949200000000005\n",
      "35.156\n",
      "35.36280000000001\n",
      "35.5696\n",
      "35.7764\n",
      "35.983200000000004\n",
      "36.19\n",
      "36.396800000000006\n",
      "36.6036\n",
      "36.8104\n",
      "37.0172\n",
      "37.224000000000004\n",
      "37.430800000000005\n",
      "37.6376\n",
      "37.8444\n",
      "38.05120000000001\n",
      "38.258\n",
      "38.464800000000004\n",
      "38.6716\n",
      "38.8784\n",
      "39.08520000000001\n",
      "39.292\n",
      "39.4988\n",
      "39.705600000000004\n",
      "39.912400000000005\n",
      "Entropy/atom = 9.226015 kb\n"
     ]
    },
    {
     "data": {
      "text/plain": [
       "9.226014595227145"
      ]
     },
     "execution_count": 16,
     "metadata": {},
     "output_type": "execute_result"
    }
   ],
   "source": [
    "entropy(PDOS_liq[:, 0], PDOS_liq[:, 1],vc)"
   ]
  },
  {
   "cell_type": "code",
   "execution_count": 37,
   "metadata": {},
   "outputs": [
    {
     "data": {
      "text/plain": [
       "0.9999999999999999"
      ]
     },
     "execution_count": 37,
     "metadata": {},
     "output_type": "execute_result"
    }
   ],
   "source": [
    "riemannint(PDOS_liq[:, 1], 0.05*4.136)"
   ]
  },
  {
   "cell_type": "code",
   "execution_count": 69,
   "metadata": {},
   "outputs": [
    {
     "data": {
      "text/plain": [
       "1.4848180850747745"
      ]
     },
     "execution_count": 69,
     "metadata": {},
     "output_type": "execute_result"
    }
   ],
   "source": [
    "9.226014595227145 - 7.7411965101523705"
   ]
  },
  {
   "cell_type": "code",
   "execution_count": 30,
   "metadata": {},
   "outputs": [
    {
     "data": {
      "text/plain": [
       "0.9999999999999999"
      ]
     },
     "execution_count": 30,
     "metadata": {},
     "output_type": "execute_result"
    }
   ],
   "source": [
    "riemannint(PDOS_liq[:, 1], 0.05*4.136)"
   ]
  },
  {
   "cell_type": "code",
   "execution_count": 82,
   "metadata": {},
   "outputs": [
    {
     "data": {
      "text/plain": [
       "array([[0.0000000e+00, 5.7845700e-05],\n",
       "       [1.0000000e-01, 9.1097710e-04],\n",
       "       [2.0000000e-01, 2.8613829e-03],\n",
       "       ...,\n",
       "       [5.9800000e+01, 0.0000000e+00],\n",
       "       [5.9900000e+01, 0.0000000e+00],\n",
       "       [6.0000000e+01, 0.0000000e+00]])"
      ]
     },
     "execution_count": 82,
     "metadata": {},
     "output_type": "execute_result"
    }
   ],
   "source": [
    "pdos = np.genfromtxt('./PDOS.dat')\n",
    "pdos"
   ]
  },
  {
   "cell_type": "code",
   "execution_count": 60,
   "metadata": {},
   "outputs": [
    {
     "data": {
      "text/plain": [
       "2.1847835208802446"
      ]
     },
     "execution_count": 60,
     "metadata": {},
     "output_type": "execute_result"
    }
   ],
   "source": [
    "3.6171 - (9.026201655222309 - 7.593885176102553)"
   ]
  },
  {
   "cell_type": "code",
   "execution_count": 39,
   "metadata": {},
   "outputs": [
    {
     "ename": "NameError",
     "evalue": "name 'pdos_total' is not defined",
     "output_type": "error",
     "traceback": [
      "\u001b[0;31m---------------------------------------------------------------------------\u001b[0m",
      "\u001b[0;31mNameError\u001b[0m                                 Traceback (most recent call last)",
      "\u001b[0;32m/var/folders/p2/mwhbpbfx4dx636dcf50t7_rr0000gn/T/ipykernel_55966/1997259601.py\u001b[0m in \u001b[0;36m<module>\u001b[0;34m\u001b[0m\n\u001b[0;32m----> 1\u001b[0;31m \u001b[0mnp\u001b[0m\u001b[0;34m.\u001b[0m\u001b[0msqueeze\u001b[0m\u001b[0;34m(\u001b[0m\u001b[0mnp\u001b[0m\u001b[0;34m.\u001b[0m\u001b[0masarray\u001b[0m\u001b[0;34m(\u001b[0m\u001b[0mpdos_total\u001b[0m\u001b[0;34m)\u001b[0m\u001b[0;34m)\u001b[0m\u001b[0;34m\u001b[0m\u001b[0;34m\u001b[0m\u001b[0m\n\u001b[0m",
      "\u001b[0;31mNameError\u001b[0m: name 'pdos_total' is not defined"
     ]
    }
   ],
   "source": [
    "np.squeeze(np.asarray(pdos_total))"
   ]
  },
  {
   "cell_type": "code",
   "execution_count": 12,
   "metadata": {},
   "outputs": [
    {
     "data": {
      "text/plain": [
       "[<matplotlib.lines.Line2D at 0x7f53a9d78a90>]"
      ]
     },
     "execution_count": 12,
     "metadata": {},
     "output_type": "execute_result"
    },
    {
     "data": {
      "image/png": "[encoded data removed]",
      "text/plain": [
       "<Figure size 432x288 with 1 Axes>"
      ]
     },
     "metadata": {
      "needs_background": "light"
     },
     "output_type": "display_data"
    }
   ],
   "source": [
    "x_s = [0, 2, 4,6,8, 10]\n",
    "s = [3.423, 3.381, 3.394, 3.420, 3.448, 3.425]\n",
    "\n",
    "plt.plot(x_s, s)"
   ]
  },
  {
   "cell_type": "code",
   "execution_count": 32,
   "metadata": {},
   "outputs": [],
   "source": [
    "pdos = np.genfromtxt('PDOS.dat')"
   ]
  },
  {
   "cell_type": "code",
   "execution_count": 33,
   "metadata": {},
   "outputs": [
    {
     "data": {
      "text/plain": [
       "[<matplotlib.lines.Line2D at 0x7fa53daa3650>]"
      ]
     },
     "execution_count": 33,
     "metadata": {},
     "output_type": "execute_result"
    },
    {
     "data": {
      "image/png": "[encoded data removed]",
      "text/plain": [
       "<Figure size 432x288 with 1 Axes>"
      ]
     },
     "metadata": {
      "needs_background": "light"
     },
     "output_type": "display_data"
    }
   ],
   "source": [
    "plt.plot(pdos[:, 0], pdos[:, 1])\n"
   ]
  },
  {
   "cell_type": "code",
   "execution_count": 41,
   "metadata": {},
   "outputs": [
    {
     "ename": "ModuleNotFoundError",
     "evalue": "No module named 'GPPhad'",
     "output_type": "error",
     "traceback": [
      "\u001b[0;31m---------------------------------------------------------------------------\u001b[0m",
      "\u001b[0;31mModuleNotFoundError\u001b[0m                       Traceback (most recent call last)",
      "\u001b[0;32m<ipython-input-41-8fe3c77ee94f>\u001b[0m in \u001b[0;36m<module>\u001b[0;34m()\u001b[0m\n\u001b[1;32m      4\u001b[0m \u001b[0mget_context\u001b[0m\u001b[0;34m(\u001b[0m\u001b[0;34m)\u001b[0m\u001b[0;34m.\u001b[0m\u001b[0mprecision\u001b[0m\u001b[0;34m=\u001b[0m\u001b[0;36m400\u001b[0m\u001b[0;34m\u001b[0m\u001b[0;34m\u001b[0m\u001b[0m\n\u001b[1;32m      5\u001b[0m \u001b[0;34m\u001b[0m\u001b[0m\n\u001b[0;32m----> 6\u001b[0;31m \u001b[0;32mfrom\u001b[0m \u001b[0mGPPhad\u001b[0m \u001b[0;32mimport\u001b[0m \u001b[0mcreate_from_scratch\u001b[0m\u001b[0;34m,\u001b[0m \u001b[0mretrain\u001b[0m\u001b[0;34m,\u001b[0m \u001b[0mconsts\u001b[0m\u001b[0;34m\u001b[0m\u001b[0;34m\u001b[0m\u001b[0m\n\u001b[0m\u001b[1;32m      7\u001b[0m \u001b[0;32mfrom\u001b[0m \u001b[0mGPPhad\u001b[0m \u001b[0;32mimport\u001b[0m \u001b[0mcov_real\u001b[0m\u001b[0;34m,\u001b[0m \u001b[0mGP_full\u001b[0m\u001b[0;34m,\u001b[0m \u001b[0mprint_point\u001b[0m\u001b[0;34m\u001b[0m\u001b[0;34m\u001b[0m\u001b[0m\n",
      "\u001b[0;31mModuleNotFoundError\u001b[0m: No module named 'GPPhad'"
     ]
    }
   ],
   "source": [
    "import numpy as np\n",
    "import copy\n",
    "from gmpy2 import mpfr, get_context\n",
    "get_context().precision=400\n",
    "\n",
    "from GPPhad import create_from_scratch, retrain, consts\n",
    "from GPPhad import cov_real, GP_full, print_point"
   ]
  },
  {
   "cell_type": "code",
   "execution_count": 40,
   "metadata": {},
   "outputs": [],
   "source": [
    "from numpy import random\n",
    "\n",
    "a = random.normal(0, 1, 10000)*5"
   ]
  },
  {
   "cell_type": "code",
   "execution_count": 43,
   "metadata": {},
   "outputs": [
    {
     "data": {
      "text/plain": [
       "4.9959501936605815"
      ]
     },
     "execution_count": 43,
     "metadata": {},
     "output_type": "execute_result"
    }
   ],
   "source": [
    "a.std()"
   ]
  },
  {
   "cell_type": "code",
   "execution_count": 50,
   "metadata": {},
   "outputs": [],
   "source": [
    "T = 300\n",
    "kb = 8.6*10**(-2)\n",
    "\n",
    "def thermo_1(freq, T):\n",
    "    return freq/(kb*T)/(1 - np.exp(-freq/(kb*T)))\n",
    "\n",
    "def thermo_2(freq, T):\n",
    "    return freq/(1 - np.exp(-freq/(kb*T))) - 0.0001/(1 - np.exp(-0.0001/(kb*T)))"
   ]
  },
  {
   "cell_type": "code",
   "execution_count": 51,
   "metadata": {},
   "outputs": [],
   "source": [
    "freq = np.linspace(0, 60, 200)"
   ]
  },
  {
   "cell_type": "code",
   "execution_count": 57,
   "metadata": {},
   "outputs": [
    {
     "data": {
      "text/plain": [
       "<matplotlib.legend.Legend at 0x7f8123712190>"
      ]
     },
     "execution_count": 57,
     "metadata": {},
     "output_type": "execute_result"
    },
    {
     "data": {
      "image/png": "[encoded data removed]",
      "text/plain": [
       "<Figure size 432x288 with 1 Axes>"
      ]
     },
     "metadata": {
      "needs_background": "light"
     },
     "output_type": "display_data"
    }
   ],
   "source": [
    "plt.plot(freq[1:], thermo_1(freq[1:], 10), label = 'T = 10')\n",
    "plt.plot(freq[1:], thermo_1(freq[1:], 300), label = 'T = 300')\n",
    "plt.plot(freq[1:], thermo_1(freq[1:], 600), label = 'T = 600')\n",
    "\n",
    "plt.legend()"
   ]
  },
  {
   "cell_type": "code",
   "execution_count": 56,
   "metadata": {},
   "outputs": [
    {
     "data": {
      "text/plain": [
       "<matplotlib.legend.Legend at 0x7f81231e8d90>"
      ]
     },
     "execution_count": 56,
     "metadata": {},
     "output_type": "execute_result"
    },
    {
     "data": {
      "image/png": "[encoded data removed]",
      "text/plain": [
       "<Figure size 432x288 with 1 Axes>"
      ]
     },
     "metadata": {
      "needs_background": "light"
     },
     "output_type": "display_data"
    }
   ],
   "source": [
    "plt.plot(freq[1:], thermo_2(freq[1:], 10), label = 'T = 10')\n",
    "plt.plot(freq[1:], thermo_2(freq[1:], 300), label = 'T = 300')\n",
    "plt.plot(freq[1:], thermo_2(freq[1:], 600), label = 'T = 600')\n",
    "\n",
    "plt.legend()"
   ]
  },
  {
   "cell_type": "code",
   "execution_count": null,
   "metadata": {},
   "outputs": [],
   "source": []
  }
 ],
 "metadata": {
  "kernelspec": {
   "display_name": "Python 3 (ipykernel)",
   "language": "python",
   "name": "python3"
  },
  "language_info": {
   "codemirror_mode": {
    "name": "ipython",
    "version": 3
   },
   "file_extension": ".py",
   "mimetype": "text/x-python",
   "name": "python",
   "nbconvert_exporter": "python",
   "pygments_lexer": "ipython3",
   "version": "3.9.7"
  }
 },
 "nbformat": 4,
 "nbformat_minor": 4
}
