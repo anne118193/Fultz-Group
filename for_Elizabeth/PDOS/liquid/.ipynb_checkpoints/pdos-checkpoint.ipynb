{
 "cells": [
  {
   "cell_type": "code",
   "execution_count": 47,
   "metadata": {},
   "outputs": [],
   "source": [
    "import math\n",
    "import re\n",
    "import numpy as np\n",
    "import matplotlib.pyplot as plt\n",
    "import matplotlib\n",
    "\n",
    "matplotlib.rcParams['mathtext.fontset'] = 'cm'\n",
    "matplotlib.rcParams['font.size'] = 17"
   ]
  },
  {
   "cell_type": "code",
   "execution_count": 48,
   "metadata": {},
   "outputs": [],
   "source": [
    "def read_data():\n",
    "    vacf_all = []\n",
    "    vacf_1 = []\n",
    "    vacf_2 = []\n",
    "    check = -2\n",
    "    \n",
    "    M1 = 238.03**(1/2.0)\n",
    "    M2 = 95.95**(1/2.0)\n",
    "    \n",
    "    fi = open(path+'DOS.out', 'r')\n",
    "    for k in range(100000):\n",
    "        st = fi.readline()\n",
    "        #print(st[0:4])\n",
    "        if st[0:4] == \"Step\":\n",
    "            check = check + 1\n",
    "            #print(check)\n",
    "        if check == 1:\n",
    "            break\n",
    "    #for i in range(700):\n",
    "    #            st = fi.readline()\n",
    "            \n",
    "    for k in range(t_vacf):\n",
    "        \n",
    "        st = fi.readline()\n",
    "        if st[0:4] == \"Loop\":\n",
    "            break\n",
    "        data = st.rstrip().split()\n",
    "        #print(st)\n",
    "        vacf_all.append([float(data[0])*step-t0,float(data[8])])\n",
    "        #vacf_1.append([float(data[0])*step-t0,float(data[9])])\n",
    "        #vacf_2.append([float(data[0])*step-t0,float(data[10])])\n",
    "    fi.close()\n",
    "\n",
    "    vacf_all = np.asmatrix(vacf_all)\n",
    "    #vacf_1 = np.asmatrix(vacf_1)\n",
    "    #vacf_2 = np.asmatrix(vacf_2)\n",
    "    \n",
    "    v = np.copy(vacf_all[0,1])\n",
    "    #v1 = np.copy(vacf_1[0,1])\n",
    "    #v2 = np.copy(vacf_2[0,1])\n",
    "    print(\"len of all vacf\", vacf_all.shape)\n",
    "    for i in range(len(vacf_all)):\n",
    "        vacf_all[i,1] = (M1**2*vacf_all[i,1])/(M1**2*v)\n",
    "        #vacf_1[i,1] = (M1**2*vacf_1[i,1])/(M1**2*v1 + M2**2*v2)\n",
    "        #vacf_2[i,1] = (M2**2*vacf_2[i,1])/(M1**2*v1 + M2**2*v2)\n",
    "\n",
    "    \n",
    "    fo = open('VACF.dat','w')\n",
    "    fo.write('Time, ps Autocorr \\n')\n",
    "    for i in range(len(vacf_all)):\n",
    "        fo.write('%f %f \\n' % (vacf_all[i,0],vacf_all[i,1]))\n",
    "    fo.close()\n",
    "    \n",
    "    #fo = open('VACF_1.dat','w')\n",
    "    #fo.write('Time, ps Autocorr \\n')\n",
    "    #for i in range(len(vacf_1)):\n",
    "    #    fo.write('%f %f \\n' % (vacf_1[i,0],vacf_1[i,1]))\n",
    "    #fo.close()\n",
    "    #fo = open('VACF_2.dat','w')\n",
    "    #fo.write('Time, ps Autocorr \\n')\n",
    "    #for i in range(len(vacf_2)):\n",
    "    #    fo.write('%f %f \\n' % (vacf_2[i,0],vacf_2[i,1]))\n",
    "    #fo.close()\n",
    "    return vacf_1, vacf_2, vacf_all"
   ]
  },
  {
   "cell_type": "code",
   "execution_count": 49,
   "metadata": {},
   "outputs": [],
   "source": [
    "def PDOS(vacf,v,nAt):\n",
    "    gr = 0\n",
    "    gr = np.sum(np.multiply(np.cos(2*3.141592654*v*vacf[:,0]),vacf[:,1])*step)\n",
    "\t#for i in range(vacf.shape[0]):\n",
    "#\t\tgr = gr + math.cos(2*3.141592654*v*vacf[i,0])*vacf[i,1]*step\n",
    "\t#l = vacf.shape[0]\n",
    "\t#gr = np.sum(math.cos(2*3.141592654*np.repeat(v,l)*vacf[:,0])*vacf[:,1]*np.repeat(step,l))\n",
    "    return 4*gr#*nAt/(nAt1+nAt2)"
   ]
  },
  {
   "cell_type": "code",
   "execution_count": 50,
   "metadata": {},
   "outputs": [],
   "source": [
    "def integ(pdos):\n",
    "\tsum = 0\n",
    "\tvcut = freq[-1]\n",
    "\tfor i in range(len(pdos)):\n",
    "\t\tsum = sum + pdos[i][1]*(freq[1]-freq[0])\n",
    "\t\tif sum > 1:\n",
    "\t\t\tvcut = pdos[i][0]\n",
    "\t\t\tbreak\n",
    "\tprint(\"Integral =\", sum)\n",
    "\tprint (\"vcut =\", vcut)\n",
    "\treturn vcut, sum"
   ]
  },
  {
   "cell_type": "code",
   "execution_count": 51,
   "metadata": {},
   "outputs": [],
   "source": [
    "def write_vacf(vacf, pdos_name, nAt):\n",
    "    p = []\n",
    "    for v in freq:\n",
    "        p_tmp = PDOS(vacf,v,nAt)\n",
    "        if v == 0:\n",
    "            p0 = p_tmp\n",
    "        p_tmp = p_tmp #- p0\n",
    "        p.append([v,p_tmp])\n",
    "\n",
    "    vc, integral  = integ(p)\n",
    "    #print(vc, integral)\n",
    "    #p2 = [[x[0],x[1]*1.0/integral] for x in p]\n",
    "    p2 = [[x[0],x[1]*1.0] for x in p]\n",
    "\n",
    "    fo = open(pdos_name,'w')\n",
    "    for x in p2:\n",
    "        fo.write(\"%f %f \\n\" % (x[0], x[1]))\n",
    "    fo.close()\n",
    "    return p2"
   ]
  },
  {
   "cell_type": "code",
   "execution_count": 52,
   "metadata": {},
   "outputs": [],
   "source": [
    "dnu = 0.05\n",
    "freq = np.array([i*dnu for i in range(0,800)])\n",
    "mask_value = re.compile('[+-]?\\d+\\.?\\d*e?[+-]?\\d*')\n",
    "#mask_line = re.compile('temperature\\s*\\d+')\n",
    "mask_energy = re.compile('\\s+0\\s+0\\s*\\d+')\n",
    "\n",
    "step = 0.001\n",
    "t_vacf = 1500\n",
    "t0 = 0.\n",
    "type1 = 'Pb'\n",
    "type2 = 'Mo'\n",
    "\n",
    "n = 30\n",
    "c = 0\n",
    "nAt = 4*n*n*n\n",
    "nAt1 = nAt*(100-c)/100\n",
    "nAt2 = nAt*c/100\n",
    "path = \"./\""
   ]
  },
  {
   "cell_type": "code",
   "execution_count": 53,
   "metadata": {},
   "outputs": [
    {
     "name": "stdout",
     "output_type": "stream",
     "text": [
      "len of all vacf (1500, 2)\n"
     ]
    }
   ],
   "source": [
    "vacf_1, vacf_2, vacf_all = read_data()"
   ]
  },
  {
   "cell_type": "code",
   "execution_count": 54,
   "metadata": {},
   "outputs": [
    {
     "data": {
      "image/png": "[encoded data removed]",
      "text/plain": [
       "<Figure size 576x432 with 1 Axes>"
      ]
     },
     "metadata": {
      "needs_background": "light"
     },
     "output_type": "display_data"
    }
   ],
   "source": [
    "fig = plt.figure(figsize=(8,6))\n",
    "plt.plot(vacf_all[:,0], vacf_all[:,1], 'or')\n",
    "#plt.plot(vacf_1[:,0], vacf_1[:,1], 'ob')\n",
    "#plt.plot(vacf_2[:,0], vacf_2[:,1], 'og')\n",
    "#plt.yticks([0.0, 0.5, 1])\n",
    "plt.show()"
   ]
  },
  {
   "cell_type": "code",
   "execution_count": 55,
   "metadata": {},
   "outputs": [
    {
     "data": {
      "text/plain": [
       "0.2068"
      ]
     },
     "execution_count": 55,
     "metadata": {},
     "output_type": "execute_result"
    }
   ],
   "source": [
    "pdos_all_x[1]"
   ]
  },
  {
   "cell_type": "code",
   "execution_count": 56,
   "metadata": {
    "scrolled": true
   },
   "outputs": [
    {
     "name": "stdout",
     "output_type": "stream",
     "text": [
      "Integral = 1.0007864995190845\n",
      "vcut = 3.4000000000000004\n"
     ]
    }
   ],
   "source": [
    "#write_vacf(vacf_all, path+'PDOS_all.dat')\n",
    "pdos_all = np.asmatrix(write_vacf(vacf_all[:], path+'PDOS_{0}.dat'.format('all'), nAt))\n",
    "#pdos1 = np.asmatrix(write_vacf(vacf_1, path+'PDOS_{0}.dat'.format(type1), nAt1))\n",
    "#pdos2 = np.asmatrix(write_vacf(vacf_2, path+'PDOS_{0}.dat'.format(type2), nAt2))\n",
    "import copy\n",
    "\n",
    "#pdos_total = copy.deepcopy(pdos1)\n",
    "#pdos_total[:,1] += pdos2[:, 1]\n",
    "#0.7391632209175192+0.18972116869799943\n"
   ]
  },
  {
   "cell_type": "code",
   "execution_count": 57,
   "metadata": {},
   "outputs": [],
   "source": [
    "T = 887.3\n",
    "kb = 8.6*10**(-2)\n",
    "\n",
    "def riemannint(f,dx):\n",
    "    \"\"\"Compute Riemann integral\"\"\"\n",
    "    return np.sum(f)*dx\n",
    "\n",
    "def thermo(freq, T):\n",
    "    return freq/(kb*T)/(1 - np.exp(-freq/(kb*T)))"
   ]
  },
  {
   "cell_type": "code",
   "execution_count": 66,
   "metadata": {},
   "outputs": [
    {
     "data": {
      "image/png": "[encoded data removed]",
      "text/plain": [
       "<Figure size 720x576 with 1 Axes>"
      ]
     },
     "metadata": {
      "needs_background": "light"
     },
     "output_type": "display_data"
    }
   ],
   "source": [
    "fig =plt.figure(figsize=(10,8))\n",
    "\n",
    "#PDOS = np.genfromtxt(\"PDOS.dat\")\n",
    "#PDOS_liq = np.genfromtxt(\"../liquid/PDOS.dat\")\n",
    "\n",
    "ax = fig.add_subplot(111)\n",
    "\n",
    "pdos_all_x = np.array(pdos_all[:, 0])[:, 0]\n",
    "pdos_all_y = np.array(pdos_all[:, 1])[:, 0]\n",
    "\n",
    "#pdos_all_y -= y_lor\n",
    "pdos_all_y /= 4.136\n",
    "\n",
    "pdos_all_y = pdos_all_y[:100]\n",
    "pdos_all_x = pdos_all_x[:100]\n",
    "\n",
    "pdos_all_x *= 4.136\n",
    "#pdos_all_y[1:] *= thermo(pdos_all_x, T)[1:]\n",
    "\n",
    "integral = riemannint(pdos_all_y, 0.05*4.136)\n",
    "pdos_all_y /= integral\n",
    "#pdos_all_y /= integral\n",
    "#y_lor /= integral\n",
    "\n",
    "gamma = 2.6*2\n",
    "#gamma = 1.*2\n",
    "\n",
    "def lorenc(x, A, gamma, x0):\n",
    "    return A*(1/2.*gamma)**2/((x - x0)**2 + 1/4.*gamma**2)\n",
    "\n",
    "Lgamma0 = lambda x: lorenc(x, pdos_all_y[0], gamma, 0)\n",
    "x_lor = pdos_all_x\n",
    "y_lor = np.array([Lgamma0(el) for el in x_lor])\n",
    "\n",
    "pdos_all_y -= y_lor\n",
    "\n",
    "integral = riemannint(pdos_all_y, 0.05*4.136)\n",
    "\n",
    "pdos_all_y /= integral\n",
    "\n",
    "\n",
    "ax.plot(x_lor, y_lor)\n",
    "#ax.plot(PDOS_liq[0, :], PDOS_liq[1, :], color='tab:green', label='{}'.format('liquid'), linewidth=3)\n",
    "ax.plot(pdos_all_x, pdos_all_y, color='tab:red', label='PDOS_{}'.format('all'), linewidth=3)\n",
    "#ax.plot(pdos_all[1:,0]*4.136, pdos_new[:]*4.136, color='tab:red', label='PDOS_{}'.format('all'), linewidth=3)\n",
    "#plt.plot(pdos[:, 0], pdos[:, 1])\n",
    "\n",
    "#ax.plot(pdos1[:,0], pdos1[:,1], color='tab:blue', label='PDOS_{0}'.format(type1), linewidth=3)\n",
    "#ax.plot(pdos2[:,0], pdos2[:,1], color='tab:orange', label='PDOS_{0}'.format(type2), linewidth=3)\n",
    "#ax.plot(pdos_total[:,0], pdos_total[:, 1], color='indianred', label='total PDOS', linewidth=3)\n",
    "#ax.plot(PDOS[:, 0]/0.24180, PDOS[:, 1])\n",
    "#ax.fill_between(np.squeeze(np.asarray(pdos1[:,0])), 0, np.squeeze(np.asarray(pdos_total)), facecolor='tab:olive', label = 'Total PDOS')\n",
    "plt.xlabel('frequency, meV')\n",
    "plt.ylabel('PDOS')\n",
    "plt.xlim(0,20.)\n",
    "plt.ylim(0,0.2)\n",
    "#plt.ylim(0,0.5)\n",
    "#plt.xscale([0, 12/0.24180])\n",
    "#plt.ylim(0,0.1)\n",
    "plt.legend()\n",
    "plt.savefig(path+\"{0}{1}_pdos.jpg\".format(type1, type2), dpi=300)\n",
    "plt.show()"
   ]
  },
  {
   "cell_type": "code",
   "execution_count": 67,
   "metadata": {},
   "outputs": [
    {
     "name": "stdout",
     "output_type": "stream",
     "text": [
      "1.6582835582400703\n",
      "0.8500000000000001\n"
     ]
    }
   ],
   "source": [
    "print(pdos_all[17,1]/pdos_all[0,1])\n",
    "print(pdos_all[17,0])"
   ]
  },
  {
   "cell_type": "code",
   "execution_count": 68,
   "metadata": {},
   "outputs": [
    {
     "name": "stdout",
     "output_type": "stream",
     "text": [
      "1.0\n"
     ]
    }
   ],
   "source": [
    "print(riemannint(pdos_all_y, 0.05*4.136))\n",
    "\n",
    "\n",
    "np.savetxt(\"./PDOS.dat\", np.vstack([pdos_all_x, pdos_all_y]).T)"
   ]
  },
  {
   "cell_type": "code",
   "execution_count": 69,
   "metadata": {},
   "outputs": [
    {
     "name": "stdout",
     "output_type": "stream",
     "text": [
      "0.29154555729688564\n"
     ]
    }
   ],
   "source": [
    "gamma = pdos_all[17,0]*2\n",
    "\n",
    "def lorenc(x, A, gamma, x0):\n",
    "    return A*(1/2.*gamma)**2/((x - x0)**2 + 1/4.*gamma**2)\n",
    "\n",
    "Lgamma0 = lambda x: lorenc(x, pdos_all[0,1], gamma, 0)\n",
    "print(Lgamma0(0))"
   ]
  },
  {
   "cell_type": "code",
   "execution_count": 70,
   "metadata": {},
   "outputs": [
    {
     "name": "stdout",
     "output_type": "stream",
     "text": [
      "(799, 1)\n"
     ]
    }
   ],
   "source": [
    "from scipy.constants import physical_constants\n",
    "\n",
    "def thermal_factor(freq, T):\n",
    "    kb = physical_constants['Boltzmann constant in eV/K'][0]*1000\n",
    "    return 1/np.expm1(freq/(kb*T))\n",
    "\n",
    "thermo = thermal_factor(pdos_all[1:,0], 1100)\n",
    "print(thermo.shape)\n",
    "pdos_new = np.zeros(len(pdos_all[1:,1]))\n",
    "for i in range(len(pdos_all[1:,1])):\n",
    "    pdos_new[i] = pdos_all[1+i,1]*thermo[i, 0]"
   ]
  },
  {
   "cell_type": "code",
   "execution_count": 71,
   "metadata": {},
   "outputs": [
    {
     "data": {
      "text/plain": [
       "(1, 799)"
      ]
     },
     "execution_count": 71,
     "metadata": {},
     "output_type": "execute_result"
    }
   ],
   "source": [
    "np.reshape(thermo, (len(thermo), )).shape"
   ]
  },
  {
   "cell_type": "code",
   "execution_count": 72,
   "metadata": {},
   "outputs": [],
   "source": [
    "\n",
    "np.savetxt(\"./PDOS.dat\", np.vstack([pdos_all_x, pdos_all_y]).T)"
   ]
  },
  {
   "cell_type": "code",
   "execution_count": 167,
   "metadata": {},
   "outputs": [
    {
     "ename": "NameError",
     "evalue": "name 'pdos_total' is not defined",
     "output_type": "error",
     "traceback": [
      "\u001b[0;31m---------------------------------------------------------------------------\u001b[0m",
      "\u001b[0;31mNameError\u001b[0m                                 Traceback (most recent call last)",
      "\u001b[0;32m/var/folders/p2/mwhbpbfx4dx636dcf50t7_rr0000gn/T/ipykernel_60912/3220690450.py\u001b[0m in \u001b[0;36m<module>\u001b[0;34m\u001b[0m\n\u001b[1;32m      1\u001b[0m \u001b[0mnp\u001b[0m\u001b[0;34m.\u001b[0m\u001b[0msavetxt\u001b[0m\u001b[0;34m(\u001b[0m\u001b[0;34m\"./PDOS_mix.dat\"\u001b[0m\u001b[0;34m,\u001b[0m \u001b[0mpdos_all\u001b[0m\u001b[0;34m)\u001b[0m\u001b[0;34m\u001b[0m\u001b[0;34m\u001b[0m\u001b[0m\n\u001b[0;32m----> 2\u001b[0;31m \u001b[0mnp\u001b[0m\u001b[0;34m.\u001b[0m\u001b[0msavetxt\u001b[0m\u001b[0;34m(\u001b[0m\u001b[0;34m\"./PDOS_unmix.dat\"\u001b[0m\u001b[0;34m,\u001b[0m \u001b[0mpdos_total\u001b[0m\u001b[0;34m)\u001b[0m\u001b[0;34m\u001b[0m\u001b[0;34m\u001b[0m\u001b[0m\n\u001b[0m\u001b[1;32m      3\u001b[0m \u001b[0;34m\u001b[0m\u001b[0m\n\u001b[1;32m      4\u001b[0m \u001b[0mnp\u001b[0m\u001b[0;34m.\u001b[0m\u001b[0msavetxt\u001b[0m\u001b[0;34m(\u001b[0m\u001b[0;34m\"./PDOS_U.dat\"\u001b[0m\u001b[0;34m,\u001b[0m \u001b[0mpdos1\u001b[0m\u001b[0;34m)\u001b[0m\u001b[0;34m\u001b[0m\u001b[0;34m\u001b[0m\u001b[0m\n\u001b[1;32m      5\u001b[0m \u001b[0mnp\u001b[0m\u001b[0;34m.\u001b[0m\u001b[0msavetxt\u001b[0m\u001b[0;34m(\u001b[0m\u001b[0;34m\"./PDOS_Mo.dat\"\u001b[0m\u001b[0;34m,\u001b[0m \u001b[0mpdos2\u001b[0m\u001b[0;34m)\u001b[0m\u001b[0;34m\u001b[0m\u001b[0;34m\u001b[0m\u001b[0m\n",
      "\u001b[0;31mNameError\u001b[0m: name 'pdos_total' is not defined"
     ]
    }
   ],
   "source": [
    "np.savetxt(\"./PDOS_mix.dat\", pdos_all)\n",
    "np.savetxt(\"./PDOS_unmix.dat\", pdos_total)\n",
    "\n",
    "np.savetxt(\"./PDOS_U.dat\", pdos1)\n",
    "np.savetxt(\"./PDOS_Mo.dat\", pdos2)\n"
   ]
  },
  {
   "cell_type": "code",
   "execution_count": 61,
   "metadata": {
    "scrolled": true
   },
   "outputs": [
    {
     "name": "stdout",
     "output_type": "stream",
     "text": [
      "0.2068\n",
      "0.4136\n",
      "0.6204000000000001\n",
      "0.8272\n",
      "1.034\n",
      "1.2408000000000001\n",
      "1.4476000000000002\n",
      "1.6544\n",
      "1.8612000000000002\n",
      "2.068\n",
      "2.2748000000000004\n",
      "2.4816000000000003\n",
      "2.6884\n",
      "2.8952000000000004\n",
      "3.1020000000000003\n",
      "3.3088\n",
      "3.5156000000000005\n",
      "3.7224000000000004\n",
      "3.9292000000000002\n",
      "4.136\n",
      "4.3428\n",
      "4.549600000000001\n",
      "4.756400000000001\n",
      "4.9632000000000005\n",
      "5.17\n",
      "5.3768\n",
      "5.583600000000001\n",
      "5.790400000000001\n",
      "5.997200000000001\n",
      "6.204000000000001\n",
      "6.4108\n",
      "6.6176\n",
      "6.824400000000001\n",
      "7.031200000000001\n",
      "7.238\n",
      "7.444800000000001\n",
      "7.6516\n",
      "7.8584000000000005\n",
      "8.0652\n",
      "8.272\n",
      "8.478800000000001\n",
      "8.6856\n",
      "8.8924\n",
      "9.099200000000002\n",
      "9.306000000000001\n",
      "9.512800000000002\n",
      "9.7196\n",
      "9.926400000000001\n",
      "10.1332\n",
      "10.34\n",
      "10.546800000000001\n",
      "10.7536\n",
      "10.960400000000002\n",
      "11.167200000000001\n",
      "11.374\n",
      "11.580800000000002\n",
      "11.787600000000001\n",
      "11.994400000000002\n",
      "12.201200000000002\n",
      "12.408000000000001\n",
      "12.6148\n",
      "12.8216\n",
      "13.028400000000001\n",
      "13.2352\n",
      "13.442\n",
      "13.648800000000001\n",
      "13.8556\n",
      "14.062400000000002\n",
      "14.269200000000001\n",
      "14.476\n",
      "14.682800000000002\n",
      "14.889600000000002\n",
      "15.096400000000003\n",
      "15.3032\n",
      "15.51\n",
      "15.716800000000001\n",
      "15.9236\n",
      "16.1304\n",
      "16.337200000000003\n",
      "16.544\n",
      "16.750799999999998\n",
      "16.957600000000003\n",
      "17.1644\n",
      "17.3712\n",
      "17.578\n",
      "17.7848\n",
      "17.991600000000002\n",
      "18.198400000000003\n",
      "18.4052\n",
      "18.612000000000002\n",
      "18.8188\n",
      "19.025600000000004\n",
      "19.232400000000002\n",
      "19.4392\n",
      "19.646\n",
      "19.852800000000002\n",
      "Entropy/atom = 10.164270 kb\n"
     ]
    },
    {
     "data": {
      "text/plain": [
       "10.16427020241185"
      ]
     },
     "execution_count": 61,
     "metadata": {},
     "output_type": "execute_result"
    }
   ],
   "source": [
    "vc = 20\n",
    "T = 659\n",
    "\n",
    "kb = 8.6*10**(-2)\n",
    "\n",
    "def n(eps,T):\n",
    "        return 1/(2.71828**(eps/(kb*T))-1)\n",
    "\n",
    "def entropy(pdos_x,pdos_y,vcut):\n",
    "        ent = 0\n",
    "        for i in range(1, len(pdos_x)-1):\n",
    "                if pdos_x[i] > vcut:\n",
    "                        break\n",
    "                eps = pdos_x[i]\n",
    "                eps_new = pdos_x[i+1]\n",
    "                deps = eps_new - eps\n",
    "                print(eps)\n",
    "                ent = ent + ((n(eps,T)+1)*math.log(n(eps,T)+1)-n(eps,T)*math.log(n(eps,T)))*pdos_y[i]*deps\n",
    "        \n",
    "        print(\"Entropy/atom = %f kb\" % (3*ent))\n",
    "        return 3*ent\n",
    "\n",
    "#PDOS_liq = np.genfromtxt(\"../liquid/PDOS.dat\")\n",
    "entropy(pdos_all_x, pdos_all_y,vc)\n"
   ]
  },
  {
   "cell_type": "code",
   "execution_count": 187,
   "metadata": {},
   "outputs": [
    {
     "data": {
      "text/plain": [
       "200"
      ]
     },
     "execution_count": 187,
     "metadata": {},
     "output_type": "execute_result"
    }
   ],
   "source": [
    "len(pdos_all_y)"
   ]
  },
  {
   "cell_type": "code",
   "execution_count": 755,
   "metadata": {},
   "outputs": [
    {
     "data": {
      "text/plain": [
       "2.84"
      ]
     },
     "execution_count": 755,
     "metadata": {},
     "output_type": "execute_result"
    }
   ],
   "source": [
    "10.43 - 7.59"
   ]
  },
  {
   "cell_type": "code",
   "execution_count": 56,
   "metadata": {},
   "outputs": [
    {
     "data": {
      "text/plain": [
       "array([ 0.00000000e+00, -3.20303691e-04, -4.76756411e-04,  4.60779355e-05,\n",
       "       -2.84995618e-04, -7.09535074e-04,  1.96205884e-03,  1.93799635e-04,\n",
       "       -4.48813098e-04,  1.14419906e-03,  2.44244875e-04,  3.18451905e-04,\n",
       "        9.77985726e-04,  1.99135321e-04,  5.54633763e-04,  1.22711911e-03,\n",
       "        2.65911693e-04,  3.62831761e-04,  6.08282687e-05,  1.67995096e-05,\n",
       "        1.91497709e-03,  1.33213424e-03,  1.09222117e-03,  1.64452458e-03,\n",
       "        9.38950998e-04,  8.20383974e-04,  3.10914735e-03,  4.66271849e-04,\n",
       "        1.90958334e-03,  1.68629202e-03,  6.08572829e-03,  5.26333827e-03,\n",
       "        3.03851744e-03,  1.74986365e-03,  4.41834933e-03,  4.41878123e-03,\n",
       "        4.24351436e-03,  2.17535286e-03,  4.03323128e-03,  4.12193766e-03,\n",
       "        6.83574912e-03,  3.63851924e-03,  2.65405346e-03,  6.01550909e-03,\n",
       "        4.24001653e-03,  4.61352870e-03,  5.24378513e-03,  5.92449812e-03,\n",
       "        7.85713814e-03,  6.63871070e-03,  6.11728167e-03,  7.22184376e-03,\n",
       "        1.07323713e-02,  8.49660598e-03,  6.02690489e-03,  8.15992401e-03,\n",
       "        9.94310623e-03,  7.58647998e-03,  9.18802324e-03,  1.38144087e-02,\n",
       "        1.57958919e-02,  9.46967828e-03,  1.16056036e-02,  1.11545315e-02,\n",
       "        1.56295666e-02,  1.09016521e-02,  1.53480236e-02,  1.62842189e-02,\n",
       "        2.06778490e-02,  1.91118945e-02,  2.37541620e-02,  2.92022782e-02,\n",
       "        2.58653687e-02,  2.52808950e-02,  3.17627960e-02,  3.55327066e-02,\n",
       "        3.23000800e-02,  4.40243768e-02,  4.19810351e-02,  4.53381078e-02,\n",
       "        3.75611032e-02,  3.84308082e-02,  3.23072946e-02,  2.39427939e-02,\n",
       "        1.67525144e-02,  1.55232064e-02,  1.05076404e-02,  9.00460971e-03,\n",
       "        6.74832465e-03,  6.41509313e-03,  1.00092955e-02,  6.11061139e-03,\n",
       "        9.47084749e-03,  1.11399685e-02,  1.14410069e-02,  6.93214269e-03,\n",
       "        1.06292050e-02,  1.02257844e-02,  1.16764142e-02,  7.74030987e-03,\n",
       "        1.31098738e-02,  9.98852107e-03,  1.65568664e-02,  2.02720959e-02,\n",
       "        1.67295243e-02,  1.81769185e-02,  1.79894314e-02,  1.56291800e-02,\n",
       "        1.95075515e-02,  2.39852390e-02,  2.66025847e-02,  2.18107399e-02,\n",
       "        1.32044691e-02,  1.50028571e-02,  1.05616582e-02,  8.42242626e-03,\n",
       "        7.10521434e-03,  6.56909115e-03,  4.78985919e-03,  3.84618700e-03,\n",
       "        5.57789525e-03,  3.54358124e-03,  1.10683395e-03,  7.70765504e-04,\n",
       "        1.29329223e-03,  1.02607241e-03,  1.27740416e-07,  6.27080126e-04,\n",
       "        4.46899298e-04,  3.08928327e-04, -2.06944810e-04,  7.59228906e-04,\n",
       "        3.77518007e-04, -3.79634437e-04,  1.20010317e-03, -5.23096021e-04,\n",
       "        6.72509035e-04,  8.90808871e-04, -2.67365526e-05,  8.32135025e-04,\n",
       "        1.25293594e-04,  4.08946447e-04,  1.09130558e-03,  8.39949772e-04,\n",
       "       -1.88254853e-04,  7.16181132e-04,  1.39183563e-05,  3.57998265e-04,\n",
       "        6.25570940e-04,  7.10453260e-04,  5.62850459e-04,  3.46129070e-04,\n",
       "        5.70831617e-04,  3.29584629e-04,  1.02459518e-03, -5.76425280e-04,\n",
       "        7.68993124e-04,  1.03903501e-03,  6.63943930e-04,  6.02637758e-04,\n",
       "        1.00163102e-04,  6.42284226e-04, -3.46073641e-04,  4.11459195e-04,\n",
       "       -2.66827519e-04,  1.00655726e-03,  4.34205936e-04,  2.79520053e-04,\n",
       "        6.38953929e-04,  4.66220858e-04,  8.94947196e-04, -4.68219807e-04,\n",
       "        4.88214818e-05, -4.47915111e-05,  7.68815185e-04, -8.83335622e-05,\n",
       "        9.79972170e-04,  6.19615855e-04,  3.30513301e-04,  1.28946219e-04,\n",
       "        7.43284349e-04,  9.11186962e-04,  1.06144161e-04,  8.68441015e-04,\n",
       "        5.66528562e-04,  5.75976539e-04,  1.14885143e-03,  1.40755086e-03,\n",
       "        1.28112296e-03,  6.10662519e-04,  8.03120179e-04,  6.82065442e-04,\n",
       "        8.81002945e-04,  1.15790869e-03,  2.04022939e-04,  7.93341601e-04,\n",
       "        1.32001952e-03,  1.34009186e-03,  4.36830971e-04,  8.11260998e-04,\n",
       "        2.10581852e-03,  1.14195221e-03,  5.20736724e-04,  8.90375216e-04,\n",
       "        8.99473598e-05,  1.59755637e-03,  4.90115244e-04,  1.13140955e-03,\n",
       "        1.78038290e-03,  8.47536482e-04,  2.18237266e-03,  1.85795309e-03,\n",
       "        6.18456072e-04,  2.14081289e-03,  9.70386734e-04,  1.73648217e-03,\n",
       "        6.39891732e-04,  8.49842196e-04,  2.35141335e-03,  8.53898939e-05,\n",
       "        1.01072519e-03,  2.08907188e-03,  7.61626533e-04,  1.14497889e-03,\n",
       "        1.28339826e-03,  7.51518002e-04,  1.74687837e-03,  1.79416823e-03,\n",
       "        6.34004378e-04,  4.10449563e-04,  1.12130484e-03,  1.85826824e-03,\n",
       "        1.49542783e-03,  1.76732158e-03,  2.89622694e-03,  1.27883825e-04,\n",
       "        3.33554049e-03,  9.82235555e-04,  3.40908830e-03,  1.76373363e-03,\n",
       "        2.88302509e-03,  2.76967230e-03,  2.96101586e-03,  8.50637698e-04,\n",
       "        1.68330822e-03,  2.90228296e-03,  1.70205665e-03,  3.00241651e-03,\n",
       "        2.60711161e-03,  2.52454280e-03,  2.48041633e-03,  3.59017350e-03,\n",
       "        2.76272886e-03,  3.51607207e-03,  3.82327812e-03,  7.15477335e-04,\n",
       "        3.06614252e-03,  2.42210618e-03,  3.16879456e-03,  2.42268166e-03,\n",
       "        3.41613815e-03,  5.33454335e-03,  4.84357150e-03,  2.22679688e-03,\n",
       "        7.26806470e-03,  3.58684803e-03,  4.49319412e-03,  5.64372066e-03,\n",
       "        4.12256556e-03,  5.64310375e-03,  4.60754660e-03,  4.59700922e-03,\n",
       "        3.85474006e-03,  4.93865784e-03,  4.67928930e-03,  4.67641595e-03,\n",
       "        5.84136947e-03,  4.63775875e-03,  6.21564126e-03,  6.29965830e-03,\n",
       "        6.52199701e-03,  4.67614452e-03,  7.57124513e-03,  5.53809240e-03,\n",
       "        7.93169986e-03,  8.51485623e-03,  6.35241637e-03,  8.47100575e-03,\n",
       "        8.30941037e-03,  1.21634689e-02,  1.09041235e-02,  7.62338965e-03,\n",
       "        7.87369303e-03,  1.05891005e-02,  9.36846193e-03,  1.00268283e-02,\n",
       "        1.25490095e-02,  9.00547233e-03,  1.50235613e-02,  6.92584470e-03,\n",
       "        1.24997465e-02,  1.22122725e-02,  1.09562211e-02,  1.07117222e-02,\n",
       "        1.39528268e-02,  9.87470260e-03,  1.29488636e-02,  1.57328246e-02,\n",
       "        1.13567211e-02,  1.58323654e-02,  1.23096472e-02,  1.59488834e-02,\n",
       "        1.37360829e-02,  1.24144867e-02,  1.59690906e-02,  1.40351463e-02,\n",
       "        1.44536524e-02,  1.56163061e-02,  1.59119404e-02,  1.35021766e-02,\n",
       "        1.49459784e-02,  1.78267649e-02,  1.21656701e-02,  1.77650817e-02,\n",
       "        1.26633773e-02,  1.50224148e-02,  1.61499107e-02,  1.07648949e-02,\n",
       "        1.54615879e-02,  1.51952844e-02,  1.57402468e-02,  1.72419459e-02,\n",
       "        1.31009023e-02,  1.76144915e-02,  1.58126213e-02,  2.27391445e-02,\n",
       "        1.42549171e-02,  2.35372989e-02,  1.26799320e-02,  1.81435979e-02,\n",
       "        1.68363676e-02,  1.92095205e-02,  1.90172651e-02,  2.26259318e-02,\n",
       "        2.07837825e-02,  1.82542863e-02,  1.93396248e-02,  2.09257378e-02,\n",
       "        2.10876102e-02,  1.84499401e-02,  1.83989123e-02,  2.00858507e-02,\n",
       "        1.95331677e-02,  1.85783717e-02,  2.15105450e-02,  1.73168367e-02,\n",
       "        1.73657513e-02,  2.07311967e-02,  1.98939671e-02,  2.17599833e-02,\n",
       "        1.79578865e-02,  1.55260081e-02,  2.08645500e-02,  1.95137577e-02,\n",
       "        1.85784629e-02,  2.37137030e-02,  1.38084305e-02,  2.06420290e-02,\n",
       "        2.28357240e-02,  1.72247969e-02,  2.51391874e-02,  2.11364814e-02,\n",
       "        1.60950774e-02,  1.51573383e-02,  2.15904418e-02,  1.61883041e-02,\n",
       "        1.91606825e-02,  1.93493194e-02,  2.03542661e-02,  1.73632003e-02,\n",
       "        1.82854127e-02,  2.03749106e-02,  1.69122197e-02,  1.90542522e-02,\n",
       "        2.14048866e-02,  2.10314602e-02,  1.68273826e-02,  2.12385278e-02,\n",
       "        1.90895071e-02,  1.73864323e-02,  1.68120942e-02,  1.61128591e-02,\n",
       "        1.63740196e-02,  1.67977020e-02,  2.02314487e-02,  1.81061187e-02,\n",
       "        1.62199010e-02,  2.10634509e-02,  1.43878422e-02,  1.85531122e-02,\n",
       "        2.18010925e-02,  1.67707626e-02,  2.42083729e-02,  2.08101679e-02,\n",
       "        1.62411779e-02,  1.62911107e-02,  1.96420072e-02,  1.74299105e-02,\n",
       "        1.81445524e-02,  1.51019754e-02,  2.15828850e-02,  1.62652791e-02,\n",
       "        1.60469577e-02,  1.73849008e-02,  1.63784463e-02,  2.12348726e-02,\n",
       "        1.64368114e-02,  1.87593740e-02,  1.84406750e-02,  1.60530792e-02,\n",
       "        1.79310599e-02,  1.95062647e-02,  1.72940601e-02,  2.14823352e-02,\n",
       "        2.18010717e-02,  1.85899458e-02,  1.99444636e-02,  1.82633602e-02,\n",
       "        2.39269627e-02,  2.29979780e-02,  2.19663296e-02,  1.95144542e-02,\n",
       "        1.91341810e-02,  2.57343141e-02,  2.11131192e-02,  2.05481993e-02,\n",
       "        2.39698684e-02,  2.06719207e-02,  2.36617510e-02,  2.80482284e-02,\n",
       "        2.34193924e-02,  2.03465158e-02,  2.61349117e-02,  1.73059535e-02,\n",
       "        2.25876501e-02,  2.94987931e-02,  2.28813460e-02,  2.84872014e-02,\n",
       "        2.16217306e-02,  2.78652546e-02,  2.52203859e-02,  2.75573297e-02,\n",
       "        2.69814377e-02,  2.52618621e-02,  2.55241726e-02,  2.77306970e-02,\n",
       "        2.52627143e-02,  2.23474716e-02,  2.75286423e-02,  2.34308096e-02,\n",
       "        2.69726333e-02,  2.09408978e-02,  2.49555803e-02,  2.43094529e-02,\n",
       "        2.62267733e-02,  2.76348421e-02,  2.47493789e-02,  2.64738561e-02,\n",
       "        2.10295161e-02,  3.26244715e-02,  2.69807530e-02,  2.41949518e-02,\n",
       "        2.55622016e-02,  2.65677279e-02,  2.09319446e-02,  2.65294891e-02,\n",
       "        2.32935041e-02,  2.11735186e-02,  2.76570245e-02,  2.22595975e-02,\n",
       "        2.45562548e-02,  2.41701405e-02,  2.31210909e-02,  2.33011638e-02,\n",
       "        2.67213230e-02,  2.69750072e-02,  2.33988425e-02,  1.87267768e-02,\n",
       "        2.30031221e-02,  2.43526968e-02,  1.91973561e-02,  2.34691392e-02,\n",
       "        2.46622185e-02,  1.93780849e-02,  2.16082792e-02,  1.80675154e-02,\n",
       "        2.85137613e-02,  1.92613307e-02,  2.09425281e-02,  2.44699697e-02,\n",
       "        2.14764964e-02,  2.25214164e-02,  1.99364337e-02,  2.33822795e-02,\n",
       "        2.03238524e-02,  1.64242685e-02,  2.62505711e-02,  2.06440994e-02,\n",
       "        1.85715753e-02,  2.12651112e-02,  2.04218439e-02,  2.01394770e-02,\n",
       "        2.24189501e-02,  2.28320649e-02,  2.37348639e-02,  2.35458704e-02,\n",
       "        2.36916628e-02,  2.58975134e-02,  1.84520150e-02,  2.39096361e-02,\n",
       "        2.05099539e-02,  2.59623572e-02,  2.43083225e-02,  2.49584924e-02,\n",
       "        2.28008628e-02,  2.33893807e-02,  2.34161983e-02,  2.04705981e-02,\n",
       "        2.77657616e-02,  2.39797103e-02,  2.64069031e-02,  2.94149222e-02,\n",
       "        2.73416452e-02,  2.52595406e-02,  3.13618291e-02,  2.44091480e-02,\n",
       "        2.92593674e-02,  3.26405853e-02,  3.06719106e-02,  3.41211600e-02,\n",
       "        3.03446325e-02,  2.56691283e-02,  3.53117131e-02,  2.16886821e-02,\n",
       "        2.59766970e-02,  3.00166555e-02,  2.98372262e-02,  3.03010940e-02,\n",
       "        3.78242220e-02,  3.08936509e-02,  2.33052867e-02,  3.64750519e-02,\n",
       "        3.05435109e-02,  3.11755491e-02,  3.17235648e-02,  2.96371219e-02,\n",
       "        3.09219960e-02,  3.31953715e-02,  3.53898484e-02,  3.67955051e-02,\n",
       "        2.74964532e-02,  2.88596196e-02,  3.58110876e-02,  3.40031398e-02,\n",
       "        3.41898104e-02,  3.88684067e-02,  2.93700577e-02,  3.37784552e-02,\n",
       "        3.34382696e-02,  3.33952137e-02,  2.79227538e-02,  3.57707880e-02,\n",
       "        2.80478870e-02,  3.35127019e-02,  3.20987611e-02,  3.19908890e-02,\n",
       "        2.83162651e-02,  3.06282481e-02,  2.81284660e-02,  2.74579644e-02,\n",
       "        2.94296536e-02,  2.92968572e-02,  2.48297549e-02,  2.80491057e-02,\n",
       "        2.82636816e-02,  2.58656973e-02,  2.45509312e-02,  2.84513345e-02,\n",
       "        2.37879833e-02,  2.73314802e-02,  2.90876117e-02,  3.05624031e-02,\n",
       "        2.47276832e-02,  2.97603983e-02,  2.70163467e-02,  2.40899114e-02,\n",
       "        1.91884830e-02,  2.73462150e-02,  3.02748462e-02,  3.02116962e-02,\n",
       "        3.20623592e-02,  2.49121337e-02,  2.77947062e-02,  2.39337575e-02,\n",
       "        2.80389741e-02,  2.58845971e-02,  3.05566479e-02,  2.54774109e-02,\n",
       "        2.90600495e-02,  2.81121399e-02,  2.62170625e-02,  2.64961154e-02,\n",
       "        2.96626751e-02,  2.90107001e-02,  3.46890500e-02,  2.78675028e-02,\n",
       "        2.30720490e-02,  3.20241184e-02,  3.25788141e-02,  2.86732767e-02,\n",
       "        3.10662059e-02,  3.69162011e-02,  3.20385083e-02,  2.71292442e-02,\n",
       "        2.72117478e-02,  3.28859170e-02,  3.02950959e-02,  2.85452316e-02,\n",
       "        3.21215915e-02,  2.20947071e-02,  3.24593964e-02,  3.63865299e-02,\n",
       "        3.11509476e-02,  2.79558876e-02,  2.99726324e-02,  2.47312647e-02,\n",
       "        3.02239125e-02,  2.62229571e-02,  2.44056113e-02,  2.53701668e-02,\n",
       "        3.19383399e-02,  2.26898288e-02,  3.13865959e-02,  3.21358564e-02,\n",
       "        2.71142054e-02,  2.79982498e-02,  2.54896663e-02,  2.72680911e-02,\n",
       "        2.73536369e-02,  2.68987883e-02,  2.64452912e-02,  2.36756486e-02,\n",
       "        2.51541107e-02,  2.75668850e-02,  2.95203409e-02,  2.40505586e-02,\n",
       "        2.60458708e-02,  2.38808134e-02,  2.01806346e-02,  2.67084105e-02,\n",
       "        1.61784629e-02,  2.46807614e-02,  1.85907132e-02,  2.52019908e-02,\n",
       "        2.48014820e-02,  2.56556569e-02,  2.79226798e-02,  2.09291197e-02,\n",
       "        2.45334452e-02,  1.91128636e-02,  2.54259398e-02,  2.52998895e-02,\n",
       "        1.80184329e-02,  2.70892534e-02,  2.34663360e-02,  2.43784343e-02,\n",
       "        1.83690694e-02,  2.19238337e-02,  2.40268609e-02,  2.61935354e-02,\n",
       "        2.27698212e-02,  2.52182955e-02,  2.33219126e-02,  2.51475831e-02,\n",
       "        1.80737110e-02,  2.22711444e-02,  1.73169559e-02,  1.81985774e-02,\n",
       "        2.39340836e-02,  2.06271521e-02,  2.10653182e-02,  2.50869630e-02,\n",
       "        2.25562539e-02,  2.13360440e-02,  2.31967749e-02,  2.39015064e-02,\n",
       "        2.25170532e-02,  2.28001100e-02,  2.69775645e-02,  2.27506382e-02,\n",
       "        2.70694646e-02,  2.47089682e-02,  2.51480477e-02,  2.36701357e-02,\n",
       "        2.51429578e-02,  2.36718380e-02,  2.70509534e-02,  2.02874835e-02,\n",
       "        3.00042936e-02,  2.02850028e-02,  2.42471300e-02,  2.91840035e-02,\n",
       "        2.82490005e-02,  2.63268070e-02,  2.89139180e-02,  2.83129833e-02,\n",
       "        2.64154713e-02,  2.52943011e-02,  2.48076916e-02,  2.60972284e-02,\n",
       "        2.25695444e-02,  3.17847594e-02,  2.33502396e-02,  2.81707866e-02,\n",
       "        2.99080934e-02,  2.65550803e-02,  2.58131590e-02,  3.01025865e-02,\n",
       "        3.06147462e-02,  2.62813339e-02,  2.51319698e-02,  2.99993253e-02,\n",
       "        2.42720769e-02,  2.92816833e-02,  2.71988331e-02,  2.66594125e-02,\n",
       "        2.36682244e-02,  3.03292907e-02,  2.16931819e-02,  2.59036928e-02,\n",
       "        2.46922768e-02,  2.72598704e-02,  2.49638193e-02,  2.34082471e-02,\n",
       "        3.03347236e-02,  2.32946665e-02,  2.61983604e-02,  2.70367604e-02,\n",
       "        2.57672320e-02,  2.70272317e-02,  2.68795429e-02,  2.42906146e-02,\n",
       "        2.79183602e-02,  2.46836096e-02,  2.74173606e-02,  2.44764639e-02,\n",
       "        2.51958333e-02,  2.70223862e-02,  2.87504280e-02,  3.07316334e-02,\n",
       "        2.81773263e-02,  2.74291423e-02,  2.85628454e-02,  2.82427519e-02,\n",
       "        2.22758415e-02,  2.81374142e-02,  2.74467294e-02,  2.37274106e-02,\n",
       "        2.54652168e-02,  2.24365217e-02,  1.95506293e-02,  2.66834656e-02,\n",
       "        2.21426204e-02,  2.27413778e-02,  2.52823037e-02,  2.06750404e-02,\n",
       "        2.32555526e-02,  2.36137486e-02,  2.12274541e-02,  2.24262011e-02,\n",
       "        2.47076048e-02,  1.94143689e-02,  2.03448090e-02,  1.84991800e-02,\n",
       "        2.12919421e-02,  1.89648308e-02,  1.71789433e-02,  1.63086391e-02,\n",
       "        1.81589312e-02,  1.43138967e-02,  1.75584168e-02,  1.74883793e-02,\n",
       "        1.55206387e-02,  1.16846188e-02,  1.49513989e-02,  1.77831499e-02,\n",
       "        1.30061745e-02,  1.15984662e-02,  9.87568698e-03,  1.37887500e-02,\n",
       "        1.32103812e-02,  1.08793299e-02,  1.06162154e-02,  1.44963311e-02,\n",
       "        1.08656926e-02,  9.48594311e-03,  7.46061864e-03,  9.20322645e-03,\n",
       "        9.82962159e-03,  9.19184100e-03,  9.04952543e-03,  5.77954631e-03,\n",
       "        9.37893834e-03,  9.94709974e-03,  6.67492517e-03,  7.01090628e-03,\n",
       "        8.52438786e-03,  6.63601056e-03,  7.58968218e-03,  8.07013845e-03,\n",
       "        6.50213906e-03,  6.32442738e-03,  6.37747335e-03,  5.44208253e-03,\n",
       "        5.65531054e-03,  7.27166999e-03,  6.27804166e-03,  3.41449927e-03,\n",
       "        7.87400702e-03,  4.54074665e-03,  5.99505743e-03,  5.31455153e-03,\n",
       "        6.10552675e-03,  5.96536008e-03,  5.55624672e-03,  4.83711291e-03,\n",
       "        5.13542771e-03,  3.90826780e-03,  4.14484534e-03,  4.22343325e-03,\n",
       "        4.33522736e-03,  4.36394917e-03,  4.47240422e-03,  4.63983090e-03,\n",
       "        3.42018717e-03,  3.72241492e-03,  4.54950702e-03,  1.71913509e-03,\n",
       "        3.47583456e-03,  2.71715877e-03,  3.90535544e-03,  3.48090694e-03,\n",
       "        3.41916537e-03,  3.61892934e-03,  3.28174109e-03,  4.00449862e-03,\n",
       "        2.78915015e-03,  3.62031146e-03,  1.55284577e-03,  2.22466051e-03,\n",
       "        1.42075611e-03,  2.38931462e-03,  3.87419658e-03,  1.56495442e-03,\n",
       "        2.30722284e-03,  3.27789151e-03,  3.66651742e-03,  1.95419756e-03,\n",
       "        3.06829583e-03,  3.66201122e-03,  2.60694021e-03,  1.63086971e-03,\n",
       "        2.58048144e-03,  1.55223412e-03,  2.80769754e-03,  2.78236039e-03,\n",
       "        2.57150808e-03,  3.61669348e-04,  1.93637862e-03,  1.42267941e-03,\n",
       "        2.13885349e-03,  2.86618844e-03,  1.32069035e-03,  1.83079789e-03,\n",
       "        1.80312666e-03,  9.56131299e-04,  8.54133824e-04,  1.28875464e-03,\n",
       "        1.33838545e-03,  1.80054562e-03,  9.87067024e-04,  3.55822555e-03,\n",
       "        5.39135047e-04,  1.15474307e-03,  1.67980141e-03,  1.10612281e-03,\n",
       "        2.34987569e-03,  8.81498889e-04,  3.07741549e-04,  1.84468526e-03,\n",
       "        1.04988222e-03,  5.09053731e-04,  1.67439511e-03,  1.64149906e-03,\n",
       "        1.49857429e-03,  1.27840263e-03,  1.84150898e-03,  1.47539780e-03,\n",
       "        3.69695208e-04,  1.68190106e-03,  1.89173140e-03,  9.58290826e-04,\n",
       "        1.61730479e-03,  1.82187916e-03,  3.04392134e-04,  1.54073245e-03,\n",
       "        1.27200030e-03,  1.00557804e-03,  6.97706477e-04,  9.99234145e-04,\n",
       "        1.83150693e-03,  1.22149052e-03,  1.78955236e-03,  1.29118389e-03,\n",
       "        1.51267815e-03,  1.44528779e-03,  1.52664819e-03,  1.11412966e-03,\n",
       "        1.58783896e-03,  1.00692971e-03,  1.62362563e-03,  4.38125670e-04,\n",
       "        1.77288645e-03,  5.93939833e-04,  1.51835905e-03,  2.03457870e-03,\n",
       "        1.38415807e-03,  9.58537543e-04,  1.11035227e-03,  4.68642399e-04,\n",
       "        1.43370934e-03,  1.11974334e-03,  1.53382097e-03,  8.55619859e-04,\n",
       "        1.47458036e-03,  5.24532304e-04,  7.86395301e-04,  7.48112053e-04,\n",
       "        1.30063691e-03, -1.23982179e-05,  1.29998385e-03, -1.18150059e-03,\n",
       "        1.39139611e-03,  1.28395233e-03,  3.40067713e-04,  1.11710935e-03,\n",
       "        2.64018562e-04,  2.30077529e-05,  1.01503562e-03,  1.70806679e-04,\n",
       "        4.15079398e-04,  8.58694186e-04,  5.65398597e-04,  3.87864094e-04,\n",
       "        1.51561941e-03,  1.50202832e-03,  1.42288458e-03,  3.88477513e-04,\n",
       "        1.39968057e-03,  7.64280476e-04,  5.08897166e-04,  1.32734425e-03,\n",
       "        2.75552053e-04,  8.53225846e-04,  8.97183042e-04,  3.11764260e-05,\n",
       "        1.27737523e-03,  5.49461252e-04,  1.27537818e-03,  1.18139354e-03,\n",
       "       -5.54059458e-04,  1.25571224e-03,  6.16007344e-04,  9.18142023e-04,\n",
       "        4.73216036e-04,  7.24119712e-04,  8.06487959e-04,  3.72800211e-04,\n",
       "        1.16114197e-03, -1.85780017e-04, -5.24161589e-04,  1.04300567e-03,\n",
       "        6.91427973e-04, -5.54938308e-05,  1.45503891e-03, -5.63714276e-04,\n",
       "        6.19278072e-04,  6.29745416e-04,  7.90902352e-04,  1.05266965e-03])"
      ]
     },
     "execution_count": 56,
     "metadata": {},
     "output_type": "execute_result"
    }
   ],
   "source": [
    "np.squeeze(np.asarray(pdos_total))"
   ]
  },
  {
   "cell_type": "code",
   "execution_count": 12,
   "metadata": {},
   "outputs": [
    {
     "data": {
      "text/plain": [
       "[<matplotlib.lines.Line2D at 0x7f53a9d78a90>]"
      ]
     },
     "execution_count": 12,
     "metadata": {},
     "output_type": "execute_result"
    },
    {
     "data": {
      "image/png": "[encoded data removed]",
      "text/plain": [
       "<Figure size 432x288 with 1 Axes>"
      ]
     },
     "metadata": {
      "needs_background": "light"
     },
     "output_type": "display_data"
    }
   ],
   "source": [
    "x_s = [0, 2, 4,6,8, 10]\n",
    "s = [3.423, 3.381, 3.394, 3.420, 3.448, 3.425]\n",
    "\n",
    "plt.plot(x_s, s)"
   ]
  },
  {
   "cell_type": "code",
   "execution_count": 32,
   "metadata": {},
   "outputs": [],
   "source": [
    "pdos = np.genfromtxt('PDOS.dat')"
   ]
  },
  {
   "cell_type": "code",
   "execution_count": 33,
   "metadata": {},
   "outputs": [
    {
     "data": {
      "text/plain": [
       "[<matplotlib.lines.Line2D at 0x7fa53daa3650>]"
      ]
     },
     "execution_count": 33,
     "metadata": {},
     "output_type": "execute_result"
    },
    {
     "data": {
      "image/png": "[encoded data removed]",
      "text/plain": [
       "<Figure size 432x288 with 1 Axes>"
      ]
     },
     "metadata": {
      "needs_background": "light"
     },
     "output_type": "display_data"
    }
   ],
   "source": [
    "plt.plot(pdos[:, 0], pdos[:, 1])\n"
   ]
  },
  {
   "cell_type": "code",
   "execution_count": 41,
   "metadata": {},
   "outputs": [
    {
     "ename": "ModuleNotFoundError",
     "evalue": "No module named 'GPPhad'",
     "output_type": "error",
     "traceback": [
      "\u001b[0;31m---------------------------------------------------------------------------\u001b[0m",
      "\u001b[0;31mModuleNotFoundError\u001b[0m                       Traceback (most recent call last)",
      "\u001b[0;32m<ipython-input-41-8fe3c77ee94f>\u001b[0m in \u001b[0;36m<module>\u001b[0;34m()\u001b[0m\n\u001b[1;32m      4\u001b[0m \u001b[0mget_context\u001b[0m\u001b[0;34m(\u001b[0m\u001b[0;34m)\u001b[0m\u001b[0;34m.\u001b[0m\u001b[0mprecision\u001b[0m\u001b[0;34m=\u001b[0m\u001b[0;36m400\u001b[0m\u001b[0;34m\u001b[0m\u001b[0;34m\u001b[0m\u001b[0m\n\u001b[1;32m      5\u001b[0m \u001b[0;34m\u001b[0m\u001b[0m\n\u001b[0;32m----> 6\u001b[0;31m \u001b[0;32mfrom\u001b[0m \u001b[0mGPPhad\u001b[0m \u001b[0;32mimport\u001b[0m \u001b[0mcreate_from_scratch\u001b[0m\u001b[0;34m,\u001b[0m \u001b[0mretrain\u001b[0m\u001b[0;34m,\u001b[0m \u001b[0mconsts\u001b[0m\u001b[0;34m\u001b[0m\u001b[0;34m\u001b[0m\u001b[0m\n\u001b[0m\u001b[1;32m      7\u001b[0m \u001b[0;32mfrom\u001b[0m \u001b[0mGPPhad\u001b[0m \u001b[0;32mimport\u001b[0m \u001b[0mcov_real\u001b[0m\u001b[0;34m,\u001b[0m \u001b[0mGP_full\u001b[0m\u001b[0;34m,\u001b[0m \u001b[0mprint_point\u001b[0m\u001b[0;34m\u001b[0m\u001b[0;34m\u001b[0m\u001b[0m\n",
      "\u001b[0;31mModuleNotFoundError\u001b[0m: No module named 'GPPhad'"
     ]
    }
   ],
   "source": [
    "import numpy as np\n",
    "import copy\n",
    "from gmpy2 import mpfr, get_context\n",
    "get_context().precision=400\n",
    "\n",
    "from GPPhad import create_from_scratch, retrain, consts\n",
    "from GPPhad import cov_real, GP_full, print_point"
   ]
  },
  {
   "cell_type": "code",
   "execution_count": null,
   "metadata": {},
   "outputs": [],
   "source": []
  }
 ],
 "metadata": {
  "kernelspec": {
   "display_name": "Python 3 (ipykernel)",
   "language": "python",
   "name": "python3"
  },
  "language_info": {
   "codemirror_mode": {
    "name": "ipython",
    "version": 3
   },
   "file_extension": ".py",
   "mimetype": "text/x-python",
   "name": "python",
   "nbconvert_exporter": "python",
   "pygments_lexer": "ipython3",
   "version": "3.9.7"
  }
 },
 "nbformat": 4,
 "nbformat_minor": 4
}
