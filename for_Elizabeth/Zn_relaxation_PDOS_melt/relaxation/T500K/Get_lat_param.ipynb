{
 "cells": [
  {
   "cell_type": "code",
   "execution_count": 29,
   "id": "67531e4f-1c83-4470-983f-0872cb7e0e43",
   "metadata": {},
   "outputs": [],
   "source": [
    "import numpy as np"
   ]
  },
  {
   "cell_type": "code",
   "execution_count": 30,
   "id": "47fb49c4-21a4-487e-98df-fb573ab7ee3a",
   "metadata": {},
   "outputs": [],
   "source": [
    "cell_data = np.genfromtxt('./cell.dat')"
   ]
  },
  {
   "cell_type": "code",
   "execution_count": 31,
   "id": "691cb1bb-a5db-4412-8ce0-88983a8e82d8",
   "metadata": {},
   "outputs": [],
   "source": [
    "a = (cell_data[:, 1] - cell_data[:, 0] + (cell_data[:, 3] - cell_data[:, 2])/3**(1/2.)*2 - cell_data[:, 6]*2).mean()/120"
   ]
  },
  {
   "cell_type": "code",
   "execution_count": 32,
   "id": "2d2b84a6-f9d3-4976-a37e-b99edeaa426c",
   "metadata": {},
   "outputs": [
    {
     "data": {
      "text/plain": [
       "2.6612626264522716"
      ]
     },
     "execution_count": 32,
     "metadata": {},
     "output_type": "execute_result"
    }
   ],
   "source": [
    "a"
   ]
  },
  {
   "cell_type": "code",
   "execution_count": 33,
   "id": "13a0efea-b7e6-4d45-b0e9-7a5404aa3fad",
   "metadata": {
    "tags": []
   },
   "outputs": [],
   "source": [
    "c = (cell_data[:, 5] - cell_data[:, 4]).mean()/20"
   ]
  },
  {
   "cell_type": "code",
   "execution_count": 34,
   "id": "a8171ae0-4d46-4569-ab0d-196c1f755b56",
   "metadata": {
    "tags": []
   },
   "outputs": [
    {
     "data": {
      "text/plain": [
       "5.181432386649769"
      ]
     },
     "execution_count": 34,
     "metadata": {},
     "output_type": "execute_result"
    }
   ],
   "source": [
    "c"
   ]
  },
  {
   "cell_type": "code",
   "execution_count": 35,
   "id": "0b343ba7-9718-44fb-9210-0529ec0690c7",
   "metadata": {
    "tags": []
   },
   "outputs": [
    {
     "data": {
      "text/plain": [
       "array([5.18019393, 5.18127721, 5.18183184, 5.18028117, 5.18222145,\n",
       "       5.18089293, 5.17905994, 5.18207094, 5.18397199, 5.18279063,\n",
       "       5.18275343, 5.18546167, 5.18262135, 5.17943824, 5.18039996,\n",
       "       5.18181891, 5.18591384, 5.1850562 , 5.18275303, 5.18232071,\n",
       "       5.18489787, 5.18311746, 5.18259732, 5.18340325, 5.18014228,\n",
       "       5.18008   , 5.17940417, 5.17824733, 5.17659969, 5.17959958,\n",
       "       5.18101517, 5.18316479, 5.18302928, 5.18468366, 5.18569248,\n",
       "       5.18459154, 5.17972248, 5.17959033, 5.17751183, 5.17453511,\n",
       "       5.17704994, 5.17972321, 5.18317714, 5.18179253, 5.1813816 ,\n",
       "       5.18083078, 5.17713275, 5.1794488 , 5.18057246, 5.18325042,\n",
       "       5.18421331, 5.18306924, 5.17668637, 5.17657968, 5.17663924,\n",
       "       5.17985224, 5.18165933, 5.18202931, 5.18587755, 5.18613601,\n",
       "       5.18551872])"
      ]
     },
     "execution_count": 35,
     "metadata": {},
     "output_type": "execute_result"
    }
   ],
   "source": [
    "(cell_data[:, 5] - cell_data[:, 4])/20"
   ]
  },
  {
   "cell_type": "code",
   "execution_count": null,
   "id": "69b82ce0-a5a1-4379-ad08-d7d018464e89",
   "metadata": {},
   "outputs": [],
   "source": []
  }
 ],
 "metadata": {
  "kernelspec": {
   "display_name": "NERSC Python",
   "language": "python",
   "name": "python3"
  },
  "language_info": {
   "codemirror_mode": {
    "name": "ipython",
    "version": 3
   },
   "file_extension": ".py",
   "mimetype": "text/x-python",
   "name": "python",
   "nbconvert_exporter": "python",
   "pygments_lexer": "ipython3",
   "version": "3.9.7"
  }
 },
 "nbformat": 4,
 "nbformat_minor": 5
}
