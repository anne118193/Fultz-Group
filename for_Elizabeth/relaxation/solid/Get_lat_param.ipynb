{
 "cells": [
  {
   "cell_type": "code",
   "execution_count": 1,
   "id": "67531e4f-1c83-4470-983f-0872cb7e0e43",
   "metadata": {},
   "outputs": [],
   "source": [
    "import numpy as np"
   ]
  },
  {
   "cell_type": "code",
   "execution_count": 2,
   "id": "47fb49c4-21a4-487e-98df-fb573ab7ee3a",
   "metadata": {},
   "outputs": [],
   "source": [
    "cell_data = np.genfromtxt('./cell.dat')"
   ]
  },
  {
   "cell_type": "code",
   "execution_count": 3,
   "id": "691cb1bb-a5db-4412-8ce0-88983a8e82d8",
   "metadata": {},
   "outputs": [],
   "source": [
    "a = (cell_data[:, 1] - cell_data[:, 0]).mean()/20"
   ]
  },
  {
   "cell_type": "code",
   "execution_count": 4,
   "id": "2d2b84a6-f9d3-4976-a37e-b99edeaa426c",
   "metadata": {},
   "outputs": [
    {
     "data": {
      "text/plain": [
       "5.144110481395721"
      ]
     },
     "execution_count": 4,
     "metadata": {},
     "output_type": "execute_result"
    }
   ],
   "source": [
    "a"
   ]
  }
 ],
 "metadata": {
  "kernelspec": {
   "display_name": "NERSC Python",
   "language": "python",
   "name": "python3"
  },
  "language_info": {
   "codemirror_mode": {
    "name": "ipython",
    "version": 3
   },
   "file_extension": ".py",
   "mimetype": "text/x-python",
   "name": "python",
   "nbconvert_exporter": "python",
   "pygments_lexer": "ipython3",
   "version": "3.9.7"
  }
 },
 "nbformat": 4,
 "nbformat_minor": 5
}
