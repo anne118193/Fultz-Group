{
 "cells": [
  {
   "cell_type": "code",
   "execution_count": 1,
   "id": "e0dcab41",
   "metadata": {},
   "outputs": [],
   "source": [
    "import numpy as np\n",
    "import math\n",
    "import matplotlib.pyplot as plt\n",
    "\n",
    "%matplotlib inline"
   ]
  },
  {
   "cell_type": "code",
   "execution_count": 2,
   "id": "1223d624",
   "metadata": {},
   "outputs": [],
   "source": [
    "class Scatterer:\n",
    "    def __init__(self, element, molar_mass, g_density, sig_b, sig_a):\n",
    "        self.element = element #string with corresponding element symbol\n",
    "        self.molar_mass = molar_mass #molar mass\n",
    "        self.g_density = g_density #density [g/cm^3]\n",
    "        self.sig_b = sig_b #total bound scattering cross section (found in barn, then transformed into cm^2)\n",
    "        self.sig_a = sig_a #total absorption cross section (found in barn, then transformed into cm^2)"
   ]
  },
  {
   "cell_type": "code",
   "execution_count": 3,
   "id": "fafda39c",
   "metadata": {},
   "outputs": [],
   "source": [
    "# will need conversions between inches to cm\n",
    "def InchesToCentimeters(inches):\n",
    "    cm = inches * 2.54\n",
    "    return cm\n",
    "\n",
    "# and grams/cm^3 to atoms/cm^3\n",
    "def GramsToAtoms(gram_density, molar_mass):\n",
    "    atomic_density = gram_density * (6.022 * 10**23) / molar_mass\n",
    "    return atomic_density\n",
    "\n",
    "# and barn to cm units\n",
    "def BarnToCmSquared(barn):\n",
    "    cm_squared = barn * (10**-24)\n",
    "    return cm_squared\n",
    "    \n",
    "# will need to define the equation itself that needs to be calculated\n",
    "def ScatteringProbability(SIGMA_B, SIGMA_T, thckns, alpha = 0.785398): # alpha in radians, default corresponds to an angle of 45 degrees\n",
    "    SP = (SIGMA_B)*(1-math.exp(-SIGMA_T*thckns*(1/math.cos(alpha))))/(SIGMA_T)\n",
    "    return SP"
   ]
  },
  {
   "cell_type": "markdown",
   "id": "261d37f3",
   "metadata": {},
   "source": [
    "## InAs"
   ]
  },
  {
   "cell_type": "code",
   "execution_count": 8,
   "id": "de73aaef",
   "metadata": {},
   "outputs": [
    {
     "name": "stdout",
     "output_type": "stream",
     "text": [
      "8.119999999999999e-24 1.983e-22\n"
     ]
    }
   ],
   "source": [
    "# sample thickness\n",
    "inas_thickness = 1 #cm\n",
    "\n",
    "# InAs\n",
    "sig_b_inas = BarnToCmSquared(2.62)+BarnToCmSquared(5.5)\n",
    "sig_a_inas = BarnToCmSquared(4.5)+BarnToCmSquared(193.8)\n",
    "\n",
    "print(sig_b_inas, sig_a_inas)"
   ]
  },
  {
   "cell_type": "code",
   "execution_count": 9,
   "id": "8795cd01",
   "metadata": {},
   "outputs": [],
   "source": [
    "InAs = Scatterer(\"InAs\", 189.74, 5.67, BarnToCmSquared(2.62+5.5), BarnToCmSquared(4.5+193.8))"
   ]
  },
  {
   "cell_type": "code",
   "execution_count": 10,
   "id": "2f9f8ba5",
   "metadata": {},
   "outputs": [],
   "source": [
    "InAs.sig_t = InAs.sig_a + InAs.sig_b\n",
    "InAs.num_density = GramsToAtoms(InAs.g_density, InAs.molar_mass)\n",
    "InAs.SIGMA = (InAs.sig_b * InAs.num_density, InAs.sig_a * InAs.num_density, InAs.sig_t * InAs.num_density) #bound, absorption, total\n",
    "InAs.scattering_prob = ScatteringProbability(InAs.SIGMA[0], InAs.SIGMA[2], inas_thickness, alpha=0)*100"
   ]
  },
  {
   "cell_type": "code",
   "execution_count": 11,
   "id": "8e885295",
   "metadata": {},
   "outputs": [
    {
     "data": {
      "text/plain": [
       "{'element': 'InAs',\n",
       " 'molar_mass': 189.74,\n",
       " 'g_density': 5.67,\n",
       " 'sig_b': 8.12e-24,\n",
       " 'sig_a': 1.983e-22,\n",
       " 'sig_t': 2.0642e-22,\n",
       " 'num_density': 1.799554126699694e+22,\n",
       " 'SIGMA': (0.14612379508801515, 3.568515833245493, 3.7146396283335084),\n",
       " 'scattering_prob': 3.8378851545267954}"
      ]
     },
     "execution_count": 11,
     "metadata": {},
     "output_type": "execute_result"
    }
   ],
   "source": [
    "vars(InAs)"
   ]
  },
  {
   "cell_type": "markdown",
   "id": "db36420e",
   "metadata": {},
   "source": [
    "## SrO"
   ]
  },
  {
   "cell_type": "code",
   "execution_count": 12,
   "id": "cc617ced",
   "metadata": {},
   "outputs": [
    {
     "name": "stdout",
     "output_type": "stream",
     "text": [
      "1.0482e-23 1.28019e-24\n"
     ]
    }
   ],
   "source": [
    "# sample thickness\n",
    "sro_thickness = .4 #cm\n",
    "\n",
    "# SrO\n",
    "sig_b_sro = BarnToCmSquared(6.25)+BarnToCmSquared(4.232)\n",
    "sig_a_sro = BarnToCmSquared(1.28)+BarnToCmSquared(0.00019)\n",
    "\n",
    "print(sig_b_sro, sig_a_sro)"
   ]
  },
  {
   "cell_type": "code",
   "execution_count": 13,
   "id": "9040ca6d",
   "metadata": {},
   "outputs": [],
   "source": [
    "SrO = Scatterer(\"SrO\", 103.62, 4.7, sig_b_sro, sig_a_sro)"
   ]
  },
  {
   "cell_type": "code",
   "execution_count": 14,
   "id": "a77e1fb0",
   "metadata": {},
   "outputs": [],
   "source": [
    "SrO.sig_t = SrO.sig_a + SrO.sig_b\n",
    "SrO.num_density = GramsToAtoms(SrO.g_density, SrO.molar_mass)\n",
    "SrO.SIGMA = (SrO.sig_b * SrO.num_density, SrO.sig_a * SrO.num_density, SrO.sig_t * SrO.num_density) #bound, absorption, total\n",
    "SrO.scattering_prob = ScatteringProbability(SrO.SIGMA[0], SrO.SIGMA[2], sro_thickness, alpha=0)*100"
   ]
  },
  {
   "cell_type": "code",
   "execution_count": 15,
   "id": "08b2cbd6",
   "metadata": {},
   "outputs": [
    {
     "data": {
      "text/plain": [
       "{'element': 'SrO',\n",
       " 'molar_mass': 103.62,\n",
       " 'g_density': 4.7,\n",
       " 'sig_b': 1.0482e-23,\n",
       " 'sig_a': 1.28019e-24,\n",
       " 'sig_t': 1.176219e-23,\n",
       " 'num_density': 2.7314611078942287e+22,\n",
       " 'SIGMA': (0.28631175332947306, 0.03496789195715112, 0.32127964528662417),\n",
       " 'scattering_prob': 10.74711721487758}"
      ]
     },
     "execution_count": 15,
     "metadata": {},
     "output_type": "execute_result"
    }
   ],
   "source": [
    "vars(SrO)"
   ]
  },
  {
   "cell_type": "markdown",
   "id": "dd7ace84",
   "metadata": {},
   "source": [
    "## CuCl"
   ]
  },
  {
   "cell_type": "code",
   "execution_count": 16,
   "id": "11935615",
   "metadata": {},
   "outputs": [],
   "source": [
    "# sample thickness\n",
    "cucl_thickness = .2 #cm\n",
    "\n",
    "# CuCl\n",
    "sig_b_cucl = BarnToCmSquared(8.03)+BarnToCmSquared(16.8)\n",
    "sig_a_cucl = BarnToCmSquared(3.78)+BarnToCmSquared(33.5)"
   ]
  },
  {
   "cell_type": "code",
   "execution_count": 17,
   "id": "7107ed51",
   "metadata": {},
   "outputs": [],
   "source": [
    "CuCl = Scatterer(\"CuCl\", 98.999, 4.14, sig_b_cucl, sig_a_cucl)"
   ]
  },
  {
   "cell_type": "code",
   "execution_count": 18,
   "id": "cc1e172b",
   "metadata": {},
   "outputs": [],
   "source": [
    "CuCl.sig_t = CuCl.sig_a + CuCl.sig_b\n",
    "CuCl.num_density = GramsToAtoms(CuCl.g_density, CuCl.molar_mass)\n",
    "CuCl.SIGMA = (CuCl.sig_b * CuCl.num_density, CuCl.sig_a * CuCl.num_density, CuCl.sig_t * CuCl.num_density) #bound, absorption, total\n",
    "CuCl.scattering_prob = ScatteringProbability(CuCl.SIGMA[0], CuCl.SIGMA[2], cucl_thickness, alpha=0)*100"
   ]
  },
  {
   "cell_type": "code",
   "execution_count": 19,
   "id": "c8065f32",
   "metadata": {},
   "outputs": [
    {
     "data": {
      "text/plain": [
       "{'element': 'CuCl',\n",
       " 'molar_mass': 98.999,\n",
       " 'g_density': 4.14,\n",
       " 'sig_b': 2.483e-23,\n",
       " 'sig_a': 3.728e-23,\n",
       " 'sig_t': 6.211e-23,\n",
       " 'num_density': 2.5183163466297637e+22,\n",
       " 'SIGMA': (0.6252979488681704, 0.9388283340235759, 1.5641262828917462),\n",
       " 'scattering_prob': 10.738836884042852}"
      ]
     },
     "execution_count": 19,
     "metadata": {},
     "output_type": "execute_result"
    }
   ],
   "source": [
    "vars(CuCl)"
   ]
  },
  {
   "cell_type": "markdown",
   "id": "da61c04e",
   "metadata": {},
   "source": [
    "## ZnO"
   ]
  },
  {
   "cell_type": "code",
   "execution_count": 20,
   "id": "65b131c2",
   "metadata": {},
   "outputs": [],
   "source": [
    "# sample thickness\n",
    "zno_thickness = .3 #cm\n",
    "\n",
    "# ZnO\n",
    "sig_b_zno = BarnToCmSquared(4.131)+BarnToCmSquared(4.232)\n",
    "sig_a_zno = BarnToCmSquared(1.11)+BarnToCmSquared(0.00019)"
   ]
  },
  {
   "cell_type": "code",
   "execution_count": 21,
   "id": "c9b6706b",
   "metadata": {},
   "outputs": [],
   "source": [
    "ZnO = Scatterer(\"ZnO\", 81.38, 5.61, sig_b_zno, sig_a_zno)"
   ]
  },
  {
   "cell_type": "code",
   "execution_count": 22,
   "id": "1fe767da",
   "metadata": {},
   "outputs": [],
   "source": [
    "ZnO.sig_t = ZnO.sig_a + ZnO.sig_b\n",
    "ZnO.num_density = GramsToAtoms(ZnO.g_density, ZnO.molar_mass)\n",
    "ZnO.SIGMA = (ZnO.sig_b * ZnO.num_density, ZnO.sig_a * ZnO.num_density, ZnO.sig_t * ZnO.num_density) #bound, absorption, total\n",
    "ZnO.scattering_prob = ScatteringProbability(ZnO.SIGMA[0], ZnO.SIGMA[2], zno_thickness, alpha=0)*100"
   ]
  },
  {
   "cell_type": "code",
   "execution_count": 23,
   "id": "13cb6854",
   "metadata": {},
   "outputs": [
    {
     "data": {
      "text/plain": [
       "{'element': 'ZnO',\n",
       " 'molar_mass': 81.38,\n",
       " 'g_density': 5.61,\n",
       " 'sig_b': 8.362999999999999e-24,\n",
       " 'sig_a': 1.11019e-24,\n",
       " 'sig_t': 9.473189999999998e-24,\n",
       " 'num_density': 4.15131727697223e+22,\n",
       " 'SIGMA': (0.3471746638731875, 0.046087509277218, 0.3932621731504055),\n",
       " 'scattering_prob': 9.82431734212249}"
      ]
     },
     "execution_count": 23,
     "metadata": {},
     "output_type": "execute_result"
    }
   ],
   "source": [
    "vars(ZnO)"
   ]
  },
  {
   "cell_type": "markdown",
   "id": "77a6420a",
   "metadata": {},
   "source": [
    "## MgO"
   ]
  },
  {
   "cell_type": "code",
   "execution_count": 24,
   "id": "c9d87b40",
   "metadata": {},
   "outputs": [],
   "source": [
    "# sample thickness\n",
    "mgo_thickness = .25 #cm\n",
    "\n",
    "# MgO\n",
    "sig_b_mgo = BarnToCmSquared(3.71)+BarnToCmSquared(4.232)\n",
    "sig_a_mgo = BarnToCmSquared(0.063)+BarnToCmSquared(0.00019)"
   ]
  },
  {
   "cell_type": "code",
   "execution_count": 25,
   "id": "18293c83",
   "metadata": {},
   "outputs": [],
   "source": [
    "MgO = Scatterer(\"MgO\", 40.304, 3.6, sig_b_mgo, sig_a_mgo)"
   ]
  },
  {
   "cell_type": "code",
   "execution_count": 26,
   "id": "94493a90",
   "metadata": {},
   "outputs": [],
   "source": [
    "MgO.sig_t = MgO.sig_a + MgO.sig_b\n",
    "MgO.num_density = GramsToAtoms(MgO.g_density, MgO.molar_mass)\n",
    "MgO.SIGMA = (MgO.sig_b * MgO.num_density, MgO.sig_a * MgO.num_density, MgO.sig_t * MgO.num_density) #bound, absorption, total\n",
    "MgO.scattering_prob = ScatteringProbability(MgO.SIGMA[0], MgO.SIGMA[2], mgo_thickness, alpha=0)*100"
   ]
  },
  {
   "cell_type": "code",
   "execution_count": 27,
   "id": "1c982ed8",
   "metadata": {},
   "outputs": [
    {
     "data": {
      "text/plain": [
       "{'element': 'MgO',\n",
       " 'molar_mass': 40.304,\n",
       " 'g_density': 3.6,\n",
       " 'sig_b': 7.941999999999999e-24,\n",
       " 'sig_a': 6.318999999999999e-26,\n",
       " 'sig_t': 8.005189999999999e-24,\n",
       " 'num_density': 5.378920206431123e+22,\n",
       " 'SIGMA': (0.42719384279475975, 0.003398939678443826, 0.43059278247320354),\n",
       " 'scattering_prob': 10.125096208128095}"
      ]
     },
     "execution_count": 27,
     "metadata": {},
     "output_type": "execute_result"
    }
   ],
   "source": [
    "vars(MgO)"
   ]
  },
  {
   "cell_type": "markdown",
   "id": "f633e1e8",
   "metadata": {},
   "source": [
    "## TiO$_2$"
   ]
  },
  {
   "cell_type": "code",
   "execution_count": 28,
   "id": "db1a0da0",
   "metadata": {},
   "outputs": [],
   "source": [
    "# sample thickness\n",
    "tio2_thickness = .25 #cm\n",
    "\n",
    "# tio2\n",
    "sig_b_tio2 = BarnToCmSquared(4.35)+2*BarnToCmSquared(4.232)\n",
    "sig_a_tio2 = BarnToCmSquared(6.09)+2*BarnToCmSquared(0.00019)"
   ]
  },
  {
   "cell_type": "code",
   "execution_count": 29,
   "id": "19c3fb6b",
   "metadata": {},
   "outputs": [],
   "source": [
    "TiO2 = Scatterer(\"TiO2\", 79.866, 4.23, sig_b_tio2, sig_a_tio2)"
   ]
  },
  {
   "cell_type": "code",
   "execution_count": 30,
   "id": "5445d164",
   "metadata": {},
   "outputs": [],
   "source": [
    "TiO2.sig_t = TiO2.sig_a + TiO2.sig_b\n",
    "TiO2.num_density = GramsToAtoms(TiO2.g_density, TiO2.molar_mass)\n",
    "TiO2.SIGMA = (TiO2.sig_b * TiO2.num_density, TiO2.sig_a * TiO2.num_density, TiO2.sig_t * TiO2.num_density) #bound, absorption, total\n",
    "TiO2.scattering_prob = ScatteringProbability(TiO2.SIGMA[0], TiO2.SIGMA[2], tio2_thickness, alpha=0)*100"
   ]
  },
  {
   "cell_type": "code",
   "execution_count": 31,
   "id": "9c8f3c90",
   "metadata": {},
   "outputs": [
    {
     "data": {
      "text/plain": [
       "{'element': 'TiO2',\n",
       " 'molar_mass': 79.866,\n",
       " 'g_density': 4.23,\n",
       " 'sig_b': 1.2813999999999999e-23,\n",
       " 'sig_a': 6.0903799999999994e-24,\n",
       " 'sig_t': 1.8904379999999998e-23,\n",
       " 'num_density': 3.189474870407933e+22,\n",
       " 'SIGMA': (0.4086993098940725, 0.19425113961235066, 0.6029504495064232),\n",
       " 'scattering_prob': 9.4846813279924}"
      ]
     },
     "execution_count": 31,
     "metadata": {},
     "output_type": "execute_result"
    }
   ],
   "source": [
    "vars(TiO2)"
   ]
  },
  {
   "cell_type": "markdown",
   "id": "d1d84668",
   "metadata": {},
   "source": [
    "## GaSb"
   ]
  },
  {
   "cell_type": "code",
   "execution_count": 32,
   "id": "c65706aa",
   "metadata": {},
   "outputs": [],
   "source": [
    "# sample thickness\n",
    "gasb_thickness = .6 # cm\n",
    "\n",
    "# gasb\n",
    "sig_b_gasb = BarnToCmSquared(6.83)+BarnToCmSquared(3.9)\n",
    "sig_a_gasb = BarnToCmSquared(2.75)+BarnToCmSquared(4.91)"
   ]
  },
  {
   "cell_type": "code",
   "execution_count": 33,
   "id": "32901747",
   "metadata": {},
   "outputs": [],
   "source": [
    "GaSb = Scatterer(\"GaSb\", 191.483, 5.614, sig_b_gasb, sig_a_gasb)"
   ]
  },
  {
   "cell_type": "code",
   "execution_count": 34,
   "id": "43ab34fd",
   "metadata": {},
   "outputs": [],
   "source": [
    "GaSb.sig_t = GaSb.sig_a + GaSb.sig_b\n",
    "GaSb.num_density = GramsToAtoms(GaSb.g_density, GaSb.molar_mass)\n",
    "GaSb.SIGMA = (GaSb.sig_b * GaSb.num_density, GaSb.sig_a * GaSb.num_density, GaSb.sig_t * GaSb.num_density) #bound, absorption, total\n",
    "GaSb.scattering_prob = ScatteringProbability(GaSb.SIGMA[0], GaSb.SIGMA[2], gasb_thickness, alpha=0)*100"
   ]
  },
  {
   "cell_type": "code",
   "execution_count": 35,
   "id": "da41b0e1",
   "metadata": {},
   "outputs": [
    {
     "data": {
      "text/plain": [
       "{'element': 'GaSb',\n",
       " 'molar_mass': 191.483,\n",
       " 'g_density': 5.614,\n",
       " 'sig_b': 1.073e-23,\n",
       " 'sig_a': 7.66e-24,\n",
       " 'sig_t': 1.839e-23,\n",
       " 'num_density': 1.7655618514437311e+22,\n",
       " 'SIGMA': (0.18944478665991235, 0.1352420378205898, 0.3246868244805021),\n",
       " 'scattering_prob': 10.32803123544763}"
      ]
     },
     "execution_count": 35,
     "metadata": {},
     "output_type": "execute_result"
    }
   ],
   "source": [
    "vars(GaSb)"
   ]
  },
  {
   "cell_type": "markdown",
   "id": "26cf555d",
   "metadata": {},
   "source": [
    "## BaF$_2$"
   ]
  },
  {
   "cell_type": "code",
   "execution_count": 36,
   "id": "6ee42e60",
   "metadata": {},
   "outputs": [],
   "source": [
    "# sample thickness\n",
    "baf2_thickness = .6 # cm\n",
    "\n",
    "# baf2\n",
    "sig_b_baf2 = BarnToCmSquared(3.38)+2*BarnToCmSquared(4.018)\n",
    "sig_a_baf2 = BarnToCmSquared(1.1)+2*BarnToCmSquared(0.0096)"
   ]
  },
  {
   "cell_type": "code",
   "execution_count": 37,
   "id": "4724e4e7",
   "metadata": {},
   "outputs": [
    {
     "data": {
      "text/plain": [
       "{'element': 'BaF2',\n",
       " 'molar_mass': 175.324,\n",
       " 'g_density': 4.893,\n",
       " 'sig_b': 1.1415999999999999e-23,\n",
       " 'sig_a': 1.1192e-24,\n",
       " 'sig_t': 1.2535199999999999e-23,\n",
       " 'num_density': 1.6806396157970384e+22,\n",
       " 'SIGMA': (0.19186181853938988, 0.018809718580000453, 0.21067153711939032),\n",
       " 'scattering_prob': 10.813862639167063}"
      ]
     },
     "execution_count": 37,
     "metadata": {},
     "output_type": "execute_result"
    }
   ],
   "source": [
    "BaF2 = Scatterer(\"BaF2\", 175.324, 4.893, sig_b_baf2, sig_a_baf2)\n",
    "\n",
    "BaF2.sig_t = BaF2.sig_a + BaF2.sig_b\n",
    "BaF2.num_density = GramsToAtoms(BaF2.g_density, BaF2.molar_mass)\n",
    "BaF2.SIGMA = (BaF2.sig_b * BaF2.num_density, BaF2.sig_a * BaF2.num_density, BaF2.sig_t * BaF2.num_density) #bound, absorption, total\n",
    "BaF2.scattering_prob = ScatteringProbability(BaF2.SIGMA[0], BaF2.SIGMA[2], baf2_thickness, alpha=0)*100\n",
    "\n",
    "vars(BaF2)"
   ]
  },
  {
   "cell_type": "markdown",
   "id": "5bfd04f1",
   "metadata": {},
   "source": [
    "## ZnS"
   ]
  },
  {
   "cell_type": "code",
   "execution_count": 12,
   "id": "a872f5a9",
   "metadata": {},
   "outputs": [],
   "source": [
    "# sample thickness\n",
    "zns_thickness = .6 # cm\n",
    "\n",
    "# zns\n",
    "sig_b_zns = BarnToCmSquared(4.131)+BarnToCmSquared(1.026)\n",
    "sig_a_zns = BarnToCmSquared(1.11)+BarnToCmSquared(0.53)"
   ]
  },
  {
   "cell_type": "code",
   "execution_count": 13,
   "id": "91a70994",
   "metadata": {},
   "outputs": [],
   "source": [
    "ZnS = Scatterer(\"ZnS\", 97.47, 4.1, sig_b_zns, sig_a_zns)"
   ]
  },
  {
   "cell_type": "code",
   "execution_count": 14,
   "id": "5aff7b76",
   "metadata": {},
   "outputs": [],
   "source": [
    "ZnS.sig_t = ZnS.sig_a + ZnS.sig_b\n",
    "ZnS.num_density = GramsToAtoms(ZnS.g_density, ZnS.molar_mass)\n",
    "ZnS.SIGMA = (ZnS.sig_b * ZnS.num_density, ZnS.sig_a * ZnS.num_density, ZnS.sig_t * ZnS.num_density) #bound, absorption, total\n",
    "ZnS.scattering_prob = ScatteringProbability(ZnS.SIGMA[0], ZnS.SIGMA[2], zns_thickness, alpha=0)*100"
   ]
  },
  {
   "cell_type": "code",
   "execution_count": 15,
   "id": "76a47058",
   "metadata": {},
   "outputs": [
    {
     "data": {
      "text/plain": [
       "{'element': 'ZnS',\n",
       " 'molar_mass': 97.47,\n",
       " 'g_density': 4.1,\n",
       " 'sig_b': 5.1569999999999995e-24,\n",
       " 'sig_a': 1.64e-24,\n",
       " 'sig_t': 6.797e-24,\n",
       " 'num_density': 2.5331076228583153e+22,\n",
       " 'SIGMA': (0.13063236011080331, 0.04154296501487637, 0.17217532512567968),\n",
       " 'scattering_prob': 7.446679868180607}"
      ]
     },
     "execution_count": 15,
     "metadata": {},
     "output_type": "execute_result"
    }
   ],
   "source": [
    "vars(ZnS)"
   ]
  },
  {
   "cell_type": "markdown",
   "id": "de4df132",
   "metadata": {},
   "source": [
    "## ZnSe"
   ]
  },
  {
   "cell_type": "code",
   "execution_count": 42,
   "id": "a1ce4739",
   "metadata": {},
   "outputs": [],
   "source": [
    "# sample thickness\n",
    "znse_thickness = .1 # cm\n",
    "\n",
    "# znse\n",
    "sig_b_znse = BarnToCmSquared(4.131)+BarnToCmSquared(8.3)\n",
    "sig_a_znse = BarnToCmSquared(1.11)+BarnToCmSquared(11.7)"
   ]
  },
  {
   "cell_type": "code",
   "execution_count": 43,
   "id": "9d87becb",
   "metadata": {},
   "outputs": [],
   "source": [
    "ZnSe = Scatterer(\"ZnSe\", 144.35, 5.27, sig_b_znse, sig_a_znse)"
   ]
  },
  {
   "cell_type": "code",
   "execution_count": 44,
   "id": "f21b7444",
   "metadata": {},
   "outputs": [],
   "source": [
    "ZnSe.sig_t = ZnSe.sig_a + ZnSe.sig_b\n",
    "ZnSe.num_density = GramsToAtoms(ZnSe.g_density, ZnSe.molar_mass)\n",
    "ZnSe.SIGMA = (ZnSe.sig_b * ZnSe.num_density, ZnSe.sig_a * ZnSe.num_density, ZnSe.sig_t * ZnSe.num_density) #bound, absorption, total\n",
    "ZnSe.scattering_prob = ScatteringProbability(ZnSe.SIGMA[0], ZnSe.SIGMA[2], znse_thickness, alpha=0)*100"
   ]
  },
  {
   "cell_type": "code",
   "execution_count": 45,
   "id": "0cb64090",
   "metadata": {},
   "outputs": [
    {
     "data": {
      "text/plain": [
       "{'element': 'ZnSe',\n",
       " 'molar_mass': 144.35,\n",
       " 'g_density': 5.27,\n",
       " 'sig_b': 1.2431e-23,\n",
       " 'sig_a': 1.2809999999999998e-23,\n",
       " 'sig_t': 2.5240999999999998e-23,\n",
       " 'num_density': 2.198541046068583e+22,\n",
       " 'SIGMA': (0.27330063743678557, 0.2816331080013854, 0.554933745438171),\n",
       " 'scattering_prob': 2.6585579769228564}"
      ]
     },
     "execution_count": 45,
     "metadata": {},
     "output_type": "execute_result"
    }
   ],
   "source": [
    "vars(ZnSe)"
   ]
  },
  {
   "cell_type": "markdown",
   "id": "3850e814",
   "metadata": {},
   "source": [
    "## ZnTe"
   ]
  },
  {
   "cell_type": "code",
   "execution_count": 46,
   "id": "83114a3b",
   "metadata": {},
   "outputs": [],
   "source": [
    "# sample thickness\n",
    "znte_thickness = .3 # cm\n",
    "\n",
    "# znte\n",
    "sig_b_znte = BarnToCmSquared(4.131)+BarnToCmSquared(4.32)\n",
    "sig_a_znte = BarnToCmSquared(1.11)+BarnToCmSquared(4.7)"
   ]
  },
  {
   "cell_type": "code",
   "execution_count": 47,
   "id": "e9502458",
   "metadata": {},
   "outputs": [],
   "source": [
    "ZnTe = Scatterer(\"ZnTe\", 193.01, 6.34, sig_b_znte, sig_a_znte)"
   ]
  },
  {
   "cell_type": "code",
   "execution_count": 48,
   "id": "e0d8e8fe",
   "metadata": {},
   "outputs": [],
   "source": [
    "ZnTe.sig_t = ZnTe.sig_a + ZnTe.sig_b\n",
    "ZnTe.num_density = GramsToAtoms(ZnTe.g_density, ZnTe.molar_mass)\n",
    "ZnTe.SIGMA = (ZnTe.sig_b * ZnTe.num_density, ZnTe.sig_a * ZnTe.num_density, ZnTe.sig_t * ZnTe.num_density) #bound, absorption, total\n",
    "ZnTe.scattering_prob = ScatteringProbability(ZnTe.SIGMA[0], ZnTe.SIGMA[2], znte_thickness, alpha=0)*100"
   ]
  },
  {
   "cell_type": "code",
   "execution_count": 49,
   "id": "87c631ef",
   "metadata": {},
   "outputs": [
    {
     "data": {
      "text/plain": [
       "{'element': 'ZnTe',\n",
       " 'molar_mass': 193.01,\n",
       " 'g_density': 6.34,\n",
       " 'sig_b': 8.451e-24,\n",
       " 'sig_a': 5.81e-24,\n",
       " 'sig_t': 1.4261000000000002e-23,\n",
       " 'num_density': 1.9781089062742863e+22,\n",
       " 'SIGMA': (0.16716998366923994, 0.11492812745453604, 0.282098111123776),\n",
       " 'scattering_prob': 4.808748926129434}"
      ]
     },
     "execution_count": 49,
     "metadata": {},
     "output_type": "execute_result"
    }
   ],
   "source": [
    "vars(ZnTe)"
   ]
  },
  {
   "cell_type": "markdown",
   "id": "e7686abb",
   "metadata": {},
   "source": [
    "## NaBr"
   ]
  },
  {
   "cell_type": "code",
   "execution_count": 8,
   "id": "9ead9347",
   "metadata": {},
   "outputs": [],
   "source": [
    "# sample thickness\n",
    "nabr_thickness = .4 # cm\n",
    "\n",
    "# nabr\n",
    "sig_b_nabr = BarnToCmSquared(3.28)+BarnToCmSquared(5.9)\n",
    "sig_a_nabr = BarnToCmSquared(0.53)+BarnToCmSquared(6.9)"
   ]
  },
  {
   "cell_type": "code",
   "execution_count": 9,
   "id": "841dfebe",
   "metadata": {},
   "outputs": [],
   "source": [
    "NaBr = Scatterer(\"NaBr\", 102.894, 3.21, sig_b_nabr, sig_a_nabr)"
   ]
  },
  {
   "cell_type": "code",
   "execution_count": 10,
   "id": "b54c7815",
   "metadata": {},
   "outputs": [],
   "source": [
    "NaBr.sig_t = NaBr.sig_a + NaBr.sig_b\n",
    "NaBr.num_density = GramsToAtoms(NaBr.g_density, NaBr.molar_mass)\n",
    "NaBr.SIGMA = (NaBr.sig_b * NaBr.num_density, NaBr.sig_a * NaBr.num_density, NaBr.sig_t * NaBr.num_density) #bound, absorption, total\n",
    "NaBr.scattering_prob = ScatteringProbability(NaBr.SIGMA[0], NaBr.SIGMA[2], nabr_thickness, alpha=0)*100"
   ]
  },
  {
   "cell_type": "code",
   "execution_count": 11,
   "id": "7d79d953",
   "metadata": {},
   "outputs": [
    {
     "data": {
      "text/plain": [
       "{'element': 'NaBr',\n",
       " 'molar_mass': 102.894,\n",
       " 'g_density': 3.21,\n",
       " 'sig_b': 9.18e-24,\n",
       " 'sig_a': 7.43e-24,\n",
       " 'sig_t': 1.661e-23,\n",
       " 'num_density': 1.878692635139075e+22,\n",
       " 'SIGMA': (0.1724639839057671, 0.1395868627908333, 0.3120508466966004),\n",
       " 'scattering_prob': 6.48538717266902}"
      ]
     },
     "execution_count": 11,
     "metadata": {},
     "output_type": "execute_result"
    }
   ],
   "source": [
    "vars(NaBr)"
   ]
  },
  {
   "cell_type": "markdown",
   "id": "de6ada13",
   "metadata": {},
   "source": [
    "## Zn"
   ]
  },
  {
   "cell_type": "code",
   "execution_count": 54,
   "id": "808ef7e6",
   "metadata": {},
   "outputs": [],
   "source": [
    "# sample thickness\n",
    "zn_thickness = .4 #cm\n",
    "\n",
    "# Zn\n",
    "sig_b_zn = BarnToCmSquared(4.131)\n",
    "sig_a_zn = BarnToCmSquared(1.11)"
   ]
  },
  {
   "cell_type": "code",
   "execution_count": 55,
   "id": "35b4c311",
   "metadata": {},
   "outputs": [],
   "source": [
    "Zn = Scatterer(\"Zn\", 65.38, 7.14, sig_b_zn, sig_a_zn)"
   ]
  },
  {
   "cell_type": "code",
   "execution_count": 56,
   "id": "903297ac",
   "metadata": {},
   "outputs": [],
   "source": [
    "Zn.sig_t = Zn.sig_a + Zn.sig_b\n",
    "Zn.num_density = GramsToAtoms(Zn.g_density, Zn.molar_mass)\n",
    "Zn.SIGMA = (Zn.sig_b * Zn.num_density, Zn.sig_a * Zn.num_density, Zn.sig_t * Zn.num_density) #bound, absorption, total\n",
    "Zn.scattering_prob = ScatteringProbability(Zn.SIGMA[0], Zn.SIGMA[2], zn_thickness, alpha=0)*100"
   ]
  },
  {
   "cell_type": "code",
   "execution_count": 57,
   "id": "e3ca3988",
   "metadata": {},
   "outputs": [
    {
     "data": {
      "text/plain": [
       "{'element': 'Zn',\n",
       " 'molar_mass': 65.38,\n",
       " 'g_density': 7.14,\n",
       " 'sig_b': 4.131e-24,\n",
       " 'sig_a': 1.11e-24,\n",
       " 'sig_t': 5.241e-24,\n",
       " 'num_density': 6.576488222698073e+22,\n",
       " 'SIGMA': (0.27167472847965735, 0.0729990192719486, 0.344673747751606),\n",
       " 'scattering_prob': 10.151147970491852}"
      ]
     },
     "execution_count": 57,
     "metadata": {},
     "output_type": "execute_result"
    }
   ],
   "source": [
    "vars(Zn)"
   ]
  },
  {
   "cell_type": "markdown",
   "id": "4adb76ce",
   "metadata": {},
   "source": [
    "## Mo"
   ]
  },
  {
   "cell_type": "code",
   "execution_count": 58,
   "id": "3a69ab36",
   "metadata": {},
   "outputs": [],
   "source": [
    "# sample thickness\n",
    "mo_thickness = .0125*2 #cm\n",
    "\n",
    "# Mo\n",
    "sig_b_mo = BarnToCmSquared(5.71)\n",
    "sig_a_mo = BarnToCmSquared(2.48)"
   ]
  },
  {
   "cell_type": "code",
   "execution_count": 59,
   "id": "3972ff8a",
   "metadata": {},
   "outputs": [],
   "source": [
    "Mo = Scatterer(\"Mo\", 95.95, 10.2, sig_b_mo, sig_a_mo)"
   ]
  },
  {
   "cell_type": "code",
   "execution_count": 60,
   "id": "ec04941c",
   "metadata": {},
   "outputs": [],
   "source": [
    "Mo.sig_t = Mo.sig_a + Mo.sig_b\n",
    "Mo.num_density = GramsToAtoms(Mo.g_density, Mo.molar_mass)\n",
    "Mo.SIGMA = (Mo.sig_b * Mo.num_density, Mo.sig_a * Mo.num_density, Mo.sig_t * Mo.num_density) #bound, absorption, total\n",
    "Mo.scattering_prob = ScatteringProbability(Mo.SIGMA[0], Mo.SIGMA[2], mo_thickness, alpha=0)*100"
   ]
  },
  {
   "cell_type": "code",
   "execution_count": 61,
   "id": "79dd853b",
   "metadata": {},
   "outputs": [
    {
     "data": {
      "text/plain": [
       "{'element': 'Mo',\n",
       " 'molar_mass': 95.95,\n",
       " 'g_density': 10.2,\n",
       " 'sig_b': 5.7099999999999996e-24,\n",
       " 'sig_a': 2.48e-24,\n",
       " 'sig_t': 8.19e-24,\n",
       " 'num_density': 6.401709223553933e+22,\n",
       " 'SIGMA': (0.3655375966649295, 0.15876238874413753, 0.5242999854090671),\n",
       " 'scattering_prob': 0.9078809686423865}"
      ]
     },
     "execution_count": 61,
     "metadata": {},
     "output_type": "execute_result"
    }
   ],
   "source": [
    "vars(Mo)"
   ]
  },
  {
   "cell_type": "markdown",
   "id": "3a9cfab5",
   "metadata": {},
   "source": [
    "# Se"
   ]
  },
  {
   "cell_type": "code",
   "execution_count": 68,
   "id": "9f50f8db",
   "metadata": {},
   "outputs": [],
   "source": [
    "# sample thickness\n",
    "se_thickness = .4 #cm\n",
    "\n",
    "# Mo\n",
    "sig_b_se = BarnToCmSquared(8.3)\n",
    "sig_a_se = BarnToCmSquared(11.7)"
   ]
  },
  {
   "cell_type": "code",
   "execution_count": 69,
   "id": "8bf5974b",
   "metadata": {},
   "outputs": [],
   "source": [
    "Se = Scatterer(\"Se\", 78.96, 4.81, sig_b_se, sig_a_se) # the density varies greatly depending on the allotrope"
   ]
  },
  {
   "cell_type": "code",
   "execution_count": 70,
   "id": "2d50d85d",
   "metadata": {},
   "outputs": [],
   "source": [
    "Se.sig_t = Se.sig_a + Se.sig_b\n",
    "Se.num_density = GramsToAtoms(Se.g_density, Se.molar_mass)\n",
    "Se.SIGMA = (Se.sig_b * Se.num_density, Se.sig_a * Se.num_density, Se.sig_t * Se.num_density) #bound, absorption, total\n",
    "Se.scattering_prob = ScatteringProbability(Se.SIGMA[0], Se.SIGMA[2], se_thickness, alpha=0)*100"
   ]
  },
  {
   "cell_type": "code",
   "execution_count": 71,
   "id": "a6da4f26",
   "metadata": {},
   "outputs": [
    {
     "data": {
      "text/plain": [
       "{'element': 'Se',\n",
       " 'molar_mass': 78.96,\n",
       " 'g_density': 4.81,\n",
       " 'sig_b': 8.300000000000001e-24,\n",
       " 'sig_a': 1.1699999999999998e-23,\n",
       " 'sig_t': 2e-23,\n",
       " 'num_density': 3.6684169199594726e+22,\n",
       " 'SIGMA': (0.30447860435663626, 0.42920477963525827, 0.7336833839918945),\n",
       " 'scattering_prob': 10.554732682054398}"
      ]
     },
     "execution_count": 71,
     "metadata": {},
     "output_type": "execute_result"
    }
   ],
   "source": [
    "vars(Se)"
   ]
  },
  {
   "cell_type": "markdown",
   "id": "6c5757ac",
   "metadata": {},
   "source": [
    "# Al"
   ]
  },
  {
   "cell_type": "code",
   "execution_count": 22,
   "id": "41c721af",
   "metadata": {},
   "outputs": [],
   "source": [
    "# sample thickness\n",
    "Al_thickness = 1.7 #cm\n",
    "\n",
    "# Mo\n",
    "sig_b_al = BarnToCmSquared(1.503)\n",
    "sig_a_al = BarnToCmSquared(0.231)"
   ]
  },
  {
   "cell_type": "code",
   "execution_count": 23,
   "id": "b2ca0452",
   "metadata": {},
   "outputs": [],
   "source": [
    "Al = Scatterer(\"Al\", 26.98, 2.7, sig_b_al, sig_a_al) # the density varies greatly depending on the allotrope"
   ]
  },
  {
   "cell_type": "code",
   "execution_count": 24,
   "id": "836889aa",
   "metadata": {},
   "outputs": [],
   "source": [
    "Al.sig_t = Al.sig_a + Al.sig_b\n",
    "Al.num_density = GramsToAtoms(Al.g_density, Al.molar_mass)\n",
    "Al.SIGMA = (Al.sig_b * Al.num_density, Al.sig_a * Al.num_density, Al.sig_t * Al.num_density) #bound, absorption, total\n",
    "Al.scattering_prob = ScatteringProbability(Al.SIGMA[0], Al.SIGMA[2], Al_thickness, alpha=0)*100"
   ]
  },
  {
   "cell_type": "code",
   "execution_count": 25,
   "id": "8f654dd6",
   "metadata": {},
   "outputs": [
    {
     "data": {
      "text/plain": [
       "{'element': 'Al',\n",
       " 'molar_mass': 26.98,\n",
       " 'g_density': 2.7,\n",
       " 'sig_b': 1.5029999999999998e-24,\n",
       " 'sig_a': 2.31e-25,\n",
       " 'sig_t': 1.734e-24,\n",
       " 'num_density': 6.02646404744255e+22,\n",
       " 'SIGMA': (0.09057775463306152, 0.01392113194959229, 0.10449888658265381),\n",
       " 'scattering_prob': 14.108004903721435}"
      ]
     },
     "execution_count": 25,
     "metadata": {},
     "output_type": "execute_result"
    }
   ],
   "source": [
    "vars(Al)"
   ]
  },
  {
   "cell_type": "markdown",
   "id": "10070737",
   "metadata": {},
   "source": [
    "# Pb"
   ]
  },
  {
   "cell_type": "code",
   "execution_count": 11,
   "id": "b0996634",
   "metadata": {},
   "outputs": [],
   "source": [
    "# sample thickness\n",
    "Pb_thickness = .3 #cm\n",
    "\n",
    "# Mo\n",
    "sig_b_pb = BarnToCmSquared(11.118)\n",
    "sig_a_pb = BarnToCmSquared(0.171)"
   ]
  },
  {
   "cell_type": "code",
   "execution_count": 12,
   "id": "13b3c5d3",
   "metadata": {},
   "outputs": [],
   "source": [
    "Pb = Scatterer(\"Pb\", 207.2, 11.34, sig_b_pb, sig_a_pb)"
   ]
  },
  {
   "cell_type": "code",
   "execution_count": 13,
   "id": "f3104a88",
   "metadata": {},
   "outputs": [
    {
     "data": {
      "text/plain": [
       "{'element': 'Pb',\n",
       " 'molar_mass': 207.2,\n",
       " 'g_density': 11.34,\n",
       " 'sig_b': 1.1117999999999999e-23,\n",
       " 'sig_a': 1.71e-25,\n",
       " 'sig_t': 1.1288999999999999e-23,\n",
       " 'num_density': 3.295824324324324e+22,\n",
       " 'SIGMA': (0.3664297483783783, 0.005635859594594594, 0.3720656079729729),\n",
       " 'scattering_prob': 14.381366259894865}"
      ]
     },
     "execution_count": 13,
     "metadata": {},
     "output_type": "execute_result"
    }
   ],
   "source": [
    "Pb.sig_t = Pb.sig_a + Pb.sig_b\n",
    "Pb.num_density = GramsToAtoms(Pb.g_density, Pb.molar_mass)\n",
    "Pb.SIGMA = (Pb.sig_b * Pb.num_density, Pb.sig_a * Pb.num_density, Pb.sig_t * Pb.num_density) #bound, absorption, totPb\n",
    "Pb.scattering_prob = ScatteringProbability(Pb.SIGMA[0], Pb.SIGMA[2], Pb_thickness)*100\n",
    "vars(Pb)"
   ]
  },
  {
   "cell_type": "markdown",
   "id": "b2e3be3a",
   "metadata": {},
   "source": [
    "# CrF3"
   ]
  },
  {
   "cell_type": "code",
   "execution_count": 7,
   "id": "7050e451",
   "metadata": {},
   "outputs": [],
   "source": [
    "# sample thickness\n",
    "crf3_thickness = .15 # cm\n",
    "\n",
    "# nabr\n",
    "sig_b_crf3 = BarnToCmSquared(3.49)+ 3*BarnToCmSquared(4.018)\n",
    "sig_a_crf3 = BarnToCmSquared(3.05)+3*BarnToCmSquared(0.0096)"
   ]
  },
  {
   "cell_type": "code",
   "execution_count": 8,
   "id": "83542519",
   "metadata": {},
   "outputs": [],
   "source": [
    "crf3 = Scatterer(\"CrF3\", 108.9913, 3.8, sig_b_crf3, sig_a_crf3)"
   ]
  },
  {
   "cell_type": "code",
   "execution_count": 9,
   "id": "e79b9a97",
   "metadata": {},
   "outputs": [
    {
     "data": {
      "text/plain": [
       "{'element': 'CrF3',\n",
       " 'molar_mass': 108.9913,\n",
       " 'g_density': 3.8,\n",
       " 'sig_b': 1.5544e-23,\n",
       " 'sig_a': 3.0787999999999994e-24,\n",
       " 'sig_t': 1.8622799999999998e-23,\n",
       " 'num_density': 2.0995804252266006e+22,\n",
       " 'SIGMA': (0.3263587812972228, 0.06464188213187656, 0.39100066342909934),\n",
       " 'scattering_prob': 6.64377576606828}"
      ]
     },
     "execution_count": 9,
     "metadata": {},
     "output_type": "execute_result"
    }
   ],
   "source": [
    "crf3.sig_t = crf3.sig_a + crf3.sig_b\n",
    "crf3.num_density = GramsToAtoms(crf3.g_density, crf3.molar_mass)\n",
    "crf3.SIGMA = (crf3.sig_b * crf3.num_density, crf3.sig_a * crf3.num_density, crf3.sig_t * crf3.num_density) #bound, absorption, total\n",
    "crf3.scattering_prob = ScatteringProbability(crf3.SIGMA[0], crf3.SIGMA[2], crf3_thickness)*100\n",
    "vars(crf3)"
   ]
  },
  {
   "cell_type": "markdown",
   "id": "24d4a3a5",
   "metadata": {},
   "source": [
    "### P doped Si"
   ]
  },
  {
   "cell_type": "code",
   "execution_count": 36,
   "id": "0ef93cc9",
   "metadata": {},
   "outputs": [],
   "source": [
    "# 10 om*cm\n",
    "conc = 3*10**(-6)/100\n",
    "\n",
    "# sample thickness\n",
    "sib_10_thickness = .028 # cm\n",
    "\n",
    "# sib_10\n",
    "sig_b_sib_10 = (1 - conc)*BarnToCmSquared(2.167) + conc*BarnToCmSquared(5.24) # scatt xs\n",
    "sig_a_sib_10 = (1 - conc)*BarnToCmSquared(0.171) + conc*BarnToCmSquared(767.8) # abs xs"
   ]
  },
  {
   "cell_type": "code",
   "execution_count": 39,
   "id": "8b55e742",
   "metadata": {},
   "outputs": [],
   "source": [
    "sib_10 = Scatterer(\"SiB\", (1 - conc)*28.085 + conc*10.811, 2.3290, sig_b_sib_10, sig_a_sib_10)"
   ]
  },
  {
   "cell_type": "code",
   "execution_count": 40,
   "id": "a9215504",
   "metadata": {},
   "outputs": [
    {
     "data": {
      "text/plain": [
       "{'element': 'SiB',\n",
       " 'molar_mass': 28.08499948178,\n",
       " 'g_density': 2.329,\n",
       " 'sig_b': 2.1670000921899995e-24,\n",
       " 'sig_a': 1.7102302886999998e-25,\n",
       " 'sig_t': 2.3380231210599996e-24,\n",
       " 'num_density': 4.993853750682389e+22,\n",
       " 'SIGMA': (0.10821681538112111, 0.00854063994175512, 0.11675745532287625),\n",
       " 'scattering_prob': 0.42752758812632397}"
      ]
     },
     "execution_count": 40,
     "metadata": {},
     "output_type": "execute_result"
    }
   ],
   "source": [
    "sib_10.sig_t = sib_10.sig_a + sib_10.sig_b\n",
    "sib_10.num_density = GramsToAtoms(sib_10.g_density, sib_10.molar_mass)\n",
    "sib_10.SIGMA = (sib_10.sig_b * sib_10.num_density, sib_10.sig_a * sib_10.num_density, sib_10.sig_t * sib_10.num_density) #bound, absorption, total\n",
    "sib_10.scattering_prob = ScatteringProbability(sib_10.SIGMA[0], sib_10.SIGMA[2], sib_10_thickness)*100\n",
    "vars(sib_10)"
   ]
  },
  {
   "cell_type": "code",
   "execution_count": 41,
   "id": "57aa7dc1",
   "metadata": {},
   "outputs": [],
   "source": [
    "# 1 om*cm\n",
    "conc = 4*10**(-5)/100\n",
    "\n",
    "# sample thickness\n",
    "sib_1_thickness = .028 # cm\n",
    "\n",
    "# sib_1\n",
    "sig_b_sib_1 = (1 - conc)*BarnToCmSquared(2.167) + conc*BarnToCmSquared(5.24) # scatt xs\n",
    "sig_a_sib_1 = (1 - conc)*BarnToCmSquared(0.171) + conc*BarnToCmSquared(767.8) # abs xs"
   ]
  },
  {
   "cell_type": "code",
   "execution_count": 42,
   "id": "2bdd520f",
   "metadata": {},
   "outputs": [],
   "source": [
    "sib_1 = Scatterer(\"sib_1\", (1 - conc)*28.085 + conc*10.811, 2.3290, sig_b_sib_1, sig_a_sib_1)"
   ]
  },
  {
   "cell_type": "code",
   "execution_count": 43,
   "id": "d1bd2de2",
   "metadata": {},
   "outputs": [
    {
     "data": {
      "text/plain": [
       "{'element': 'sib_1',\n",
       " 'molar_mass': 28.0849930904,\n",
       " 'g_density': 2.329,\n",
       " 'sig_b': 2.1670012291999998e-24,\n",
       " 'sig_a': 1.713070516e-25,\n",
       " 'sig_t': 2.3383082808e-24,\n",
       " 'num_density': 4.993854887147578e+22,\n",
       " 'SIGMA': (0.10821689678895227, 0.008554825568355021, 0.1167717223573073),\n",
       " 'scattering_prob': 0.42752778906885985}"
      ]
     },
     "execution_count": 43,
     "metadata": {},
     "output_type": "execute_result"
    }
   ],
   "source": [
    "sib_1.sig_t = sib_1.sig_a + sib_1.sig_b\n",
    "sib_1.num_density = GramsToAtoms(sib_1.g_density, sib_1.molar_mass)\n",
    "sib_1.SIGMA = (sib_1.sig_b * sib_1.num_density, sib_1.sig_a * sib_1.num_density, sib_1.sig_t * sib_1.num_density) #bound, absorption, total\n",
    "sib_1.scattering_prob = ScatteringProbability(sib_1.SIGMA[0], sib_1.SIGMA[2], sib_1_thickness)*100\n",
    "vars(sib_1)"
   ]
  },
  {
   "cell_type": "code",
   "execution_count": 118,
   "id": "1c885568",
   "metadata": {},
   "outputs": [],
   "source": [
    "# 0.01 om*cm\n",
    "conc = 2*10**(-1)/100\n",
    "\n",
    "# sample thickness\n",
    "sib_001_thickness = .05 # cm\n",
    "\n",
    "# sib_001\n",
    "sig_b_sib_001 = (1 - conc)*BarnToCmSquared(2.167) + conc*BarnToCmSquared(5.24) # scatt xs\n",
    "sig_a_sib_001 = (1 - conc)*BarnToCmSquared(0.171) + conc*BarnToCmSquared(767.8) # abs xs"
   ]
  },
  {
   "cell_type": "code",
   "execution_count": 119,
   "id": "342bb5b0",
   "metadata": {},
   "outputs": [
    {
     "data": {
      "text/plain": [
       "{'element': 'sib_001',\n",
       " 'molar_mass': 28.050452,\n",
       " 'g_density': 2.329,\n",
       " 'sig_b': 2.1731459999999993e-24,\n",
       " 'sig_a': 1.706258e-24,\n",
       " 'sig_t': 3.879403999999999e-24,\n",
       " 'num_density': 5.00000427800593e+22,\n",
       " 'SIGMA': (0.10865739296731472, 0.08531297299381843, 0.19397036596113312),\n",
       " 'scattering_prob': 0.763078598988247}"
      ]
     },
     "execution_count": 119,
     "metadata": {},
     "output_type": "execute_result"
    }
   ],
   "source": [
    "sib_001 = Scatterer(\"sib_001\", (1 - conc)*28.085 + conc*10.811, 2.3290, sig_b_sib_001, sig_a_sib_001)\n",
    "\n",
    "sib_001.sig_t = sib_001.sig_a + sib_001.sig_b\n",
    "sib_001.num_density = GramsToAtoms(sib_001.g_density, sib_001.molar_mass)\n",
    "sib_001.SIGMA = (sib_001.sig_b * sib_001.num_density, sib_001.sig_a * sib_001.num_density, sib_001.sig_t * sib_001.num_density) #bound, absorption, total\n",
    "sib_001.scattering_prob = ScatteringProbability(sib_001.SIGMA[0], sib_001.SIGMA[2], sib_001_thickness)*100\n",
    "vars(sib_001)"
   ]
  },
  {
   "cell_type": "code",
   "execution_count": 124,
   "id": "e8671ce0",
   "metadata": {},
   "outputs": [],
   "source": [
    "# 0.0001 om*cm\n",
    "conc = 2*10**(-1)/100.\n",
    "\n",
    "# sample thickness\n",
    "sib_0001_thickness = 0.2 # cm\n",
    "\n",
    "# sib_0001\n",
    "sig_b_sib_0001 = (1 - conc)*BarnToCmSquared(2.167) + conc*BarnToCmSquared(5.24) # scatt xs\n",
    "sig_a_sib_0001 = (1 - conc)*BarnToCmSquared(0.171) + conc*BarnToCmSquared(767.8) # abs xs"
   ]
  },
  {
   "cell_type": "code",
   "execution_count": 125,
   "id": "d0ba4011",
   "metadata": {},
   "outputs": [
    {
     "data": {
      "text/plain": [
       "{'element': 'sib_0001',\n",
       " 'molar_mass': 28.050452,\n",
       " 'g_density': 2.329,\n",
       " 'sig_b': 2.1731459999999993e-24,\n",
       " 'sig_a': 1.706258e-24,\n",
       " 'sig_t': 3.879403999999999e-24,\n",
       " 'num_density': 5.00000427800593e+22,\n",
       " 'SIGMA': (0.10865739296731472, 0.08531297299381843, 0.19397036596113312),\n",
       " 'scattering_prob': 2.990510276267844}"
      ]
     },
     "execution_count": 125,
     "metadata": {},
     "output_type": "execute_result"
    }
   ],
   "source": [
    "sib_0001 = Scatterer(\"sib_0001\", (1 - conc)*28.085 + conc*10.811, 2.3290, sig_b_sib_0001, sig_a_sib_0001)\n",
    "\n",
    "sib_0001.sig_t = sib_0001.sig_a + sib_0001.sig_b\n",
    "sib_0001.num_density = GramsToAtoms(sib_0001.g_density, sib_0001.molar_mass)\n",
    "sib_0001.SIGMA = (sib_0001.sig_b * sib_0001.num_density, sib_0001.sig_a * sib_0001.num_density, sib_0001.sig_t * sib_0001.num_density) #bound, absorption, total\n",
    "sib_0001.scattering_prob = ScatteringProbability(sib_0001.SIGMA[0], sib_0001.SIGMA[2], sib_0001_thickness)*100\n",
    "vars(sib_0001)"
   ]
  },
  {
   "cell_type": "markdown",
   "id": "08dff800",
   "metadata": {},
   "source": [
    "### Si"
   ]
  },
  {
   "cell_type": "code",
   "execution_count": 142,
   "id": "1096a1ad",
   "metadata": {},
   "outputs": [],
   "source": [
    "# 10 om*cm\n",
    "conc = 0.0\n",
    "\n",
    "# sample thickness\n",
    "si_thickness = 0.1 # cm\n",
    "\n",
    "# si\n",
    "sig_b_si = (1 - conc)*BarnToCmSquared(2.167) + conc*BarnToCmSquared(5.24) # scatt xs\n",
    "sig_a_si = (1 - conc)*BarnToCmSquared(0.171) + conc*BarnToCmSquared(767.8) # abs xs"
   ]
  },
  {
   "cell_type": "code",
   "execution_count": 143,
   "id": "96c56ad8",
   "metadata": {},
   "outputs": [],
   "source": [
    "si = Scatterer(\"si\", (1 - conc)*28.085 + conc*10.811, 2.3290, sig_b_si, sig_a_si)"
   ]
  },
  {
   "cell_type": "code",
   "execution_count": 144,
   "id": "e25295ef",
   "metadata": {},
   "outputs": [
    {
     "data": {
      "text/plain": [
       "{'element': 'si',\n",
       " 'molar_mass': 28.085,\n",
       " 'g_density': 2.329,\n",
       " 'sig_b': 2.1669999999999996e-24,\n",
       " 'sig_a': 1.71e-25,\n",
       " 'sig_t': 2.3379999999999996e-24,\n",
       " 'num_density': 4.9938536585365855e+22,\n",
       " 'SIGMA': (0.10821680878048778, 0.00853948975609756, 0.11675629853658535),\n",
       " 'scattering_prob': 1.5178508027234054}"
      ]
     },
     "execution_count": 144,
     "metadata": {},
     "output_type": "execute_result"
    }
   ],
   "source": [
    "si.sig_t = si.sig_a + si.sig_b\n",
    "si.num_density = GramsToAtoms(si.g_density, si.molar_mass)\n",
    "si.SIGMA = (si.sig_b * si.num_density, si.sig_a * si.num_density, si.sig_t * si.num_density) #bound, absorption, total\n",
    "si.scattering_prob = ScatteringProbability(si.SIGMA[0], si.SIGMA[2], si_thickness)*100\n",
    "vars(si)"
   ]
  },
  {
   "cell_type": "markdown",
   "id": "ca702733",
   "metadata": {},
   "source": [
    "### N doped Si"
   ]
  },
  {
   "cell_type": "code",
   "execution_count": 145,
   "id": "f8b827b1",
   "metadata": {},
   "outputs": [],
   "source": [
    "# 0.001 om*cm\n",
    "conc = 2*10**(-1)/100.\n",
    "\n",
    "# sample thickness\n",
    "sip_thickness = 0.1 # cm\n",
    "\n",
    "# si\n",
    "sig_b_sip = (1 - conc)*BarnToCmSquared(2.167) + conc*BarnToCmSquared(3.312) # scatt xs\n",
    "sig_a_sip = (1 - conc)*BarnToCmSquared(0.171) + conc*BarnToCmSquared(0.172) # abs xs"
   ]
  },
  {
   "cell_type": "code",
   "execution_count": 146,
   "id": "3b79c062",
   "metadata": {},
   "outputs": [
    {
     "data": {
      "text/plain": [
       "{'element': 'sip',\n",
       " 'molar_mass': 28.09077,\n",
       " 'g_density': 2.329,\n",
       " 'sig_b': 2.1692899999999993e-24,\n",
       " 'sig_a': 1.71002e-25,\n",
       " 'sig_t': 2.3379999999999996e-24,\n",
       " 'num_density': 4.992827893290216e+22,\n",
       " 'SIGMA': (0.1083089162063553, 0.008537835554084135, 0.11673231614512523),\n",
       " 'scattering_prob': 1.5191452721391645}"
      ]
     },
     "execution_count": 146,
     "metadata": {},
     "output_type": "execute_result"
    }
   ],
   "source": [
    "sip = Scatterer(\"sip\", (1 - conc)*28.085 + conc*30.97, 2.3290, sig_b_sip, sig_a_sip)\n",
    "\n",
    "sip.sig_t = si.sig_a + si.sig_b\n",
    "sip.num_density = GramsToAtoms(sip.g_density, sip.molar_mass)\n",
    "sip.SIGMA = (sip.sig_b * sip.num_density, sip.sig_a * sip.num_density, sip.sig_t * sip.num_density) #bound, absorption, total\n",
    "sip.scattering_prob = ScatteringProbability(sip.SIGMA[0], sip.SIGMA[2], sip_thickness)*100\n",
    "vars(sip)"
   ]
  },
  {
   "cell_type": "code",
   "execution_count": null,
   "id": "79f0915e",
   "metadata": {},
   "outputs": [],
   "source": []
  }
 ],
 "metadata": {
  "kernelspec": {
   "display_name": "Python 3 (ipykernel)",
   "language": "python",
   "name": "python3"
  },
  "language_info": {
   "codemirror_mode": {
    "name": "ipython",
    "version": 3
   },
   "file_extension": ".py",
   "mimetype": "text/x-python",
   "name": "python",
   "nbconvert_exporter": "python",
   "pygments_lexer": "ipython3",
   "version": "3.9.7"
  }
 },
 "nbformat": 4,
 "nbformat_minor": 5
}
